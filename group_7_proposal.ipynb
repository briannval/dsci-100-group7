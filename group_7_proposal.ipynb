{
 "cells": [
  {
   "cell_type": "markdown",
   "id": "9d0ebfc4-4e06-4b56-a509-8ab9d77b0c10",
   "metadata": {},
   "source": [
    "# Unveiling Academic and Social Patterns: A Comprehensive Analysis of Student Alcohol Consumption in Math vs Portuguese Lesson Dataset"
   ]
  },
  {
   "cell_type": "markdown",
   "id": "1ad462bd-1ba7-42e7-abda-225263c14ce4",
   "metadata": {},
   "source": [
    "### by Brian Adhitya, Wyatt Howell, Brian Ko, Nishanth Selvakumar"
   ]
  },
  {
   "cell_type": "markdown",
   "id": "6a81fd51-f8af-4927-9ffa-127d0de6d045",
   "metadata": {},
   "source": [
    "### Introduction"
   ]
  },
  {
   "cell_type": "markdown",
   "id": "45630740-3b60-4c64-af0a-47f8e3ba7b68",
   "metadata": {},
   "source": [
    "Alcohol consumption has been high around the world, especially for **students**. Student alcohol consumption has been a subject of significant concern and research interest due to its potential implications for academic success, health outcomes, and overall student well-being. The college and university years often coincide with a period of newfound independence and exploration, where students navigate social, academic, and personal challenges. This transitional phase can be accompanied by changes in lifestyle and behavior, including patterns of alcohol consumption. Understanding the factors that influence student alcohol consumption is essential for developing **targeted interventions** and **support mechanisms**."
   ]
  },
  {
   "cell_type": "markdown",
   "id": "1d337653-1cdc-4b57-8d1b-a9a8d78f3b26",
   "metadata": {},
   "source": [
    "> Explore why students drink – from academic stress to social habits. This dataset provides insights into the real factors influencing alcohol consumption among students."
   ]
  },
  {
   "cell_type": "markdown",
   "id": "36a74afd-6bea-4b36-b0b4-5504059bba67",
   "metadata": {},
   "source": [
    "With this analysis, we are trying to gain insights on what actually causes this students to drink, and what factors will influence their alcohol consumptions. There are numerous factors that will influence a student to drink, or not to drink. This data analysis also aims to contribute to this crucial area of understanding by examining a comprehensive dataset focused on students' behaviour and circumstances. By uncovering patterns and trends, we seek to provide everyone with valuable information to inform targeted interventions and support systems that promote a healthy, thriving, and of course, **alcohol-free** student community. Recognizing the unique challenges and opportunities that students face, this analysis endeavors to advance our understanding of student alcohol consumption and, in turn, contribute to the creation of environments that foster **holistic student well-being.**"
   ]
  },
  {
   "cell_type": "markdown",
   "id": "3dc43fc8-f2f9-4d3f-bf99-12e784bcae99",
   "metadata": {},
   "source": [
    "The dataset we are using is a complete, comprehensive, and insightful dataset regarding students' alcohol consumptions. It contains so many interesting information about the students, such as what their parents do, their habits, sex, age and so many others."
   ]
  },
  {
   "cell_type": "markdown",
   "id": "6b80ee2c-d755-4e36-b1ea-8734d8ae4632",
   "metadata": {},
   "source": [
    "> \"The data were obtained in a survey of students math and portuguese language courses in secondary school. It contains a lot of interesting social, gender and study information about students.\" (Cortez & Silva, 2008)"
   ]
  },
  {
   "cell_type": "markdown",
   "id": "0910dbd2-1542-4a7c-80c8-5f1874d69d17",
   "metadata": {},
   "source": [
    "The question we are trying to answer is: **how will family, academic performance, and external factors influence a student's alcohol consumption?**"
   ]
  },
  {
   "cell_type": "markdown",
   "id": "e773472f-9858-4c04-8dfa-897e313a2c29",
   "metadata": {},
   "source": [
    "### Loading libraries"
   ]
  },
  {
   "cell_type": "code",
   "execution_count": 29,
   "id": "fefc5415-ab63-42b5-bde8-006d31e34de9",
   "metadata": {},
   "outputs": [],
   "source": [
    "# importing libraries\n",
    "library(tidyverse)\n",
    "library(repr)\n",
    "library(janitor)\n",
    "library(ggplot2)"
   ]
  },
  {
   "cell_type": "markdown",
   "id": "694c32f5-5885-413f-ab65-713f5b6c3fe3",
   "metadata": {},
   "source": [
    "### Preeliminary exploratory data analysis"
   ]
  },
  {
   "cell_type": "markdown",
   "id": "82bcb78c-78df-4101-b8a9-c47e2cd67a60",
   "metadata": {},
   "source": [
    "**1. Loading the Dataset**"
   ]
  },
  {
   "cell_type": "markdown",
   "id": "b8011985-5f1f-41f1-9476-37131fb3eb12",
   "metadata": {},
   "source": [
    "We will be working with two csv files, one being the data about the Portuguese language course students.\n",
    "The second csv file will be the data about the Math course students. We will combine both of these datasets together."
   ]
  },
  {
   "cell_type": "code",
   "execution_count": 38,
   "id": "877e8201-49a4-4d6e-975b-ed9833904c90",
   "metadata": {},
   "outputs": [
    {
     "name": "stderr",
     "output_type": "stream",
     "text": [
      "\u001b[1mRows: \u001b[22m\u001b[34m649\u001b[39m \u001b[1mColumns: \u001b[22m\u001b[34m33\u001b[39m\n",
      "\u001b[36m──\u001b[39m \u001b[1mColumn specification\u001b[22m \u001b[36m────────────────────────────────────────────────────────\u001b[39m\n",
      "\u001b[1mDelimiter:\u001b[22m \",\"\n",
      "\u001b[31mchr\u001b[39m (17): school, sex, address, famsize, Pstatus, Mjob, Fjob, reason, guardi...\n",
      "\u001b[32mdbl\u001b[39m (16): age, Medu, Fedu, traveltime, studytime, failures, famrel, freetime...\n",
      "\n",
      "\u001b[36mℹ\u001b[39m Use `spec()` to retrieve the full column specification for this data.\n",
      "\u001b[36mℹ\u001b[39m Specify the column types or set `show_col_types = FALSE` to quiet this message.\n",
      "\u001b[1mRows: \u001b[22m\u001b[34m395\u001b[39m \u001b[1mColumns: \u001b[22m\u001b[34m33\u001b[39m\n",
      "\u001b[36m──\u001b[39m \u001b[1mColumn specification\u001b[22m \u001b[36m────────────────────────────────────────────────────────\u001b[39m\n",
      "\u001b[1mDelimiter:\u001b[22m \",\"\n",
      "\u001b[31mchr\u001b[39m (17): school, sex, address, famsize, Pstatus, Mjob, Fjob, reason, guardi...\n",
      "\u001b[32mdbl\u001b[39m (16): age, Medu, Fedu, traveltime, studytime, failures, famrel, freetime...\n",
      "\n",
      "\u001b[36mℹ\u001b[39m Use `spec()` to retrieve the full column specification for this data.\n",
      "\u001b[36mℹ\u001b[39m Specify the column types or set `show_col_types = FALSE` to quiet this message.\n",
      "\u001b[1m\u001b[22mJoining with `by = join_by(school, sex, age, address, famsize, Pstatus, Medu,\n",
      "Fedu, Mjob, Fjob, reason, guardian, traveltime, studytime, failures, schoolsup,\n",
      "famsup, paid, activities, nursery, higher, internet, romantic, famrel,\n",
      "freetime, goout, Dalc, Walc, health, absences, G1, G2, G3)`\n"
     ]
    },
    {
     "data": {
      "text/html": [
       "<table class=\"dataframe\">\n",
       "<caption>A tibble: 6 × 33</caption>\n",
       "<thead>\n",
       "\t<tr><th scope=col>school</th><th scope=col>sex</th><th scope=col>age</th><th scope=col>address</th><th scope=col>famsize</th><th scope=col>pstatus</th><th scope=col>medu</th><th scope=col>fedu</th><th scope=col>mjob</th><th scope=col>fjob</th><th scope=col>⋯</th><th scope=col>famrel</th><th scope=col>freetime</th><th scope=col>goout</th><th scope=col>dalc</th><th scope=col>walc</th><th scope=col>health</th><th scope=col>absences</th><th scope=col>g1</th><th scope=col>g2</th><th scope=col>g3</th></tr>\n",
       "\t<tr><th scope=col>&lt;chr&gt;</th><th scope=col>&lt;chr&gt;</th><th scope=col>&lt;dbl&gt;</th><th scope=col>&lt;chr&gt;</th><th scope=col>&lt;chr&gt;</th><th scope=col>&lt;chr&gt;</th><th scope=col>&lt;dbl&gt;</th><th scope=col>&lt;dbl&gt;</th><th scope=col>&lt;chr&gt;</th><th scope=col>&lt;chr&gt;</th><th scope=col>⋯</th><th scope=col>&lt;dbl&gt;</th><th scope=col>&lt;dbl&gt;</th><th scope=col>&lt;dbl&gt;</th><th scope=col>&lt;dbl&gt;</th><th scope=col>&lt;dbl&gt;</th><th scope=col>&lt;dbl&gt;</th><th scope=col>&lt;dbl&gt;</th><th scope=col>&lt;dbl&gt;</th><th scope=col>&lt;dbl&gt;</th><th scope=col>&lt;dbl&gt;</th></tr>\n",
       "</thead>\n",
       "<tbody>\n",
       "\t<tr><td>GP</td><td>F</td><td>18</td><td>U</td><td>GT3</td><td>A</td><td>4</td><td>4</td><td>at_home </td><td>teacher </td><td>⋯</td><td>4</td><td>3</td><td>4</td><td>1</td><td>1</td><td>3</td><td> 6</td><td> 5</td><td> 6</td><td> 6</td></tr>\n",
       "\t<tr><td>GP</td><td>F</td><td>17</td><td>U</td><td>GT3</td><td>T</td><td>1</td><td>1</td><td>at_home </td><td>other   </td><td>⋯</td><td>5</td><td>3</td><td>3</td><td>1</td><td>1</td><td>3</td><td> 4</td><td> 5</td><td> 5</td><td> 6</td></tr>\n",
       "\t<tr><td>GP</td><td>F</td><td>15</td><td>U</td><td>LE3</td><td>T</td><td>1</td><td>1</td><td>at_home </td><td>other   </td><td>⋯</td><td>4</td><td>3</td><td>2</td><td>2</td><td>3</td><td>3</td><td>10</td><td> 7</td><td> 8</td><td>10</td></tr>\n",
       "\t<tr><td>GP</td><td>F</td><td>15</td><td>U</td><td>GT3</td><td>T</td><td>4</td><td>2</td><td>health  </td><td>services</td><td>⋯</td><td>3</td><td>2</td><td>2</td><td>1</td><td>1</td><td>5</td><td> 2</td><td>15</td><td>14</td><td>15</td></tr>\n",
       "\t<tr><td>GP</td><td>F</td><td>16</td><td>U</td><td>GT3</td><td>T</td><td>3</td><td>3</td><td>other   </td><td>other   </td><td>⋯</td><td>4</td><td>3</td><td>2</td><td>1</td><td>2</td><td>5</td><td> 4</td><td> 6</td><td>10</td><td>10</td></tr>\n",
       "\t<tr><td>GP</td><td>M</td><td>16</td><td>U</td><td>LE3</td><td>T</td><td>4</td><td>3</td><td>services</td><td>other   </td><td>⋯</td><td>5</td><td>4</td><td>2</td><td>1</td><td>2</td><td>5</td><td>10</td><td>15</td><td>15</td><td>15</td></tr>\n",
       "</tbody>\n",
       "</table>\n"
      ],
      "text/latex": [
       "A tibble: 6 × 33\n",
       "\\begin{tabular}{lllllllllllllllllllll}\n",
       " school & sex & age & address & famsize & pstatus & medu & fedu & mjob & fjob & ⋯ & famrel & freetime & goout & dalc & walc & health & absences & g1 & g2 & g3\\\\\n",
       " <chr> & <chr> & <dbl> & <chr> & <chr> & <chr> & <dbl> & <dbl> & <chr> & <chr> & ⋯ & <dbl> & <dbl> & <dbl> & <dbl> & <dbl> & <dbl> & <dbl> & <dbl> & <dbl> & <dbl>\\\\\n",
       "\\hline\n",
       "\t GP & F & 18 & U & GT3 & A & 4 & 4 & at\\_home  & teacher  & ⋯ & 4 & 3 & 4 & 1 & 1 & 3 &  6 &  5 &  6 &  6\\\\\n",
       "\t GP & F & 17 & U & GT3 & T & 1 & 1 & at\\_home  & other    & ⋯ & 5 & 3 & 3 & 1 & 1 & 3 &  4 &  5 &  5 &  6\\\\\n",
       "\t GP & F & 15 & U & LE3 & T & 1 & 1 & at\\_home  & other    & ⋯ & 4 & 3 & 2 & 2 & 3 & 3 & 10 &  7 &  8 & 10\\\\\n",
       "\t GP & F & 15 & U & GT3 & T & 4 & 2 & health   & services & ⋯ & 3 & 2 & 2 & 1 & 1 & 5 &  2 & 15 & 14 & 15\\\\\n",
       "\t GP & F & 16 & U & GT3 & T & 3 & 3 & other    & other    & ⋯ & 4 & 3 & 2 & 1 & 2 & 5 &  4 &  6 & 10 & 10\\\\\n",
       "\t GP & M & 16 & U & LE3 & T & 4 & 3 & services & other    & ⋯ & 5 & 4 & 2 & 1 & 2 & 5 & 10 & 15 & 15 & 15\\\\\n",
       "\\end{tabular}\n"
      ],
      "text/markdown": [
       "\n",
       "A tibble: 6 × 33\n",
       "\n",
       "| school &lt;chr&gt; | sex &lt;chr&gt; | age &lt;dbl&gt; | address &lt;chr&gt; | famsize &lt;chr&gt; | pstatus &lt;chr&gt; | medu &lt;dbl&gt; | fedu &lt;dbl&gt; | mjob &lt;chr&gt; | fjob &lt;chr&gt; | ⋯ ⋯ | famrel &lt;dbl&gt; | freetime &lt;dbl&gt; | goout &lt;dbl&gt; | dalc &lt;dbl&gt; | walc &lt;dbl&gt; | health &lt;dbl&gt; | absences &lt;dbl&gt; | g1 &lt;dbl&gt; | g2 &lt;dbl&gt; | g3 &lt;dbl&gt; |\n",
       "|---|---|---|---|---|---|---|---|---|---|---|---|---|---|---|---|---|---|---|---|---|\n",
       "| GP | F | 18 | U | GT3 | A | 4 | 4 | at_home  | teacher  | ⋯ | 4 | 3 | 4 | 1 | 1 | 3 |  6 |  5 |  6 |  6 |\n",
       "| GP | F | 17 | U | GT3 | T | 1 | 1 | at_home  | other    | ⋯ | 5 | 3 | 3 | 1 | 1 | 3 |  4 |  5 |  5 |  6 |\n",
       "| GP | F | 15 | U | LE3 | T | 1 | 1 | at_home  | other    | ⋯ | 4 | 3 | 2 | 2 | 3 | 3 | 10 |  7 |  8 | 10 |\n",
       "| GP | F | 15 | U | GT3 | T | 4 | 2 | health   | services | ⋯ | 3 | 2 | 2 | 1 | 1 | 5 |  2 | 15 | 14 | 15 |\n",
       "| GP | F | 16 | U | GT3 | T | 3 | 3 | other    | other    | ⋯ | 4 | 3 | 2 | 1 | 2 | 5 |  4 |  6 | 10 | 10 |\n",
       "| GP | M | 16 | U | LE3 | T | 4 | 3 | services | other    | ⋯ | 5 | 4 | 2 | 1 | 2 | 5 | 10 | 15 | 15 | 15 |\n",
       "\n"
      ],
      "text/plain": [
       "  school sex age address famsize pstatus medu fedu mjob     fjob     ⋯ famrel\n",
       "1 GP     F   18  U       GT3     A       4    4    at_home  teacher  ⋯ 4     \n",
       "2 GP     F   17  U       GT3     T       1    1    at_home  other    ⋯ 5     \n",
       "3 GP     F   15  U       LE3     T       1    1    at_home  other    ⋯ 4     \n",
       "4 GP     F   15  U       GT3     T       4    2    health   services ⋯ 3     \n",
       "5 GP     F   16  U       GT3     T       3    3    other    other    ⋯ 4     \n",
       "6 GP     M   16  U       LE3     T       4    3    services other    ⋯ 5     \n",
       "  freetime goout dalc walc health absences g1 g2 g3\n",
       "1 3        4     1    1    3       6        5  6  6\n",
       "2 3        3     1    1    3       4        5  5  6\n",
       "3 3        2     2    3    3      10        7  8 10\n",
       "4 2        2     1    1    5       2       15 14 15\n",
       "5 3        2     1    2    5       4        6 10 10\n",
       "6 4        2     1    2    5      10       15 15 15"
      ]
     },
     "metadata": {},
     "output_type": "display_data"
    }
   ],
   "source": [
    "# The Portuguese language dataset\n",
    "data_por <- read_csv(\"data/student-por.csv\")\n",
    "\n",
    "# The Math course dataset\n",
    "data_mat <- read_csv(\"data/student-mat.csv\")\n",
    "\n",
    "# Joining the datasets and cleaning the names\n",
    "data <- full_join(data_mat, data_por) |>\n",
    "        clean_names()\n",
    "\n",
    "# Initial view of the dataset\n",
    "head(data)"
   ]
  },
  {
   "cell_type": "markdown",
   "id": "1e58af23-90a9-40df-be9e-067013bcddb9",
   "metadata": {},
   "source": [
    "**2. Cleaning columns and rows**"
   ]
  },
  {
   "cell_type": "code",
   "execution_count": 41,
   "id": "58843c64-1cd4-4015-9d2a-0b2de7a4d610",
   "metadata": {},
   "outputs": [
    {
     "name": "stdout",
     "output_type": "stream",
     "text": [
      "Rows: 1,044\n",
      "Columns: 33\n",
      "$ school     \u001b[3m\u001b[90m<fct>\u001b[39m\u001b[23m GP, GP, GP, GP, GP, GP, GP, GP, GP, GP, GP, GP, GP, GP, GP,…\n",
      "$ sex        \u001b[3m\u001b[90m<fct>\u001b[39m\u001b[23m F, F, F, F, F, M, M, F, M, M, F, F, M, M, M, F, F, F, M, M,…\n",
      "$ age        \u001b[3m\u001b[90m<dbl>\u001b[39m\u001b[23m 18, 17, 15, 15, 16, 16, 16, 17, 15, 15, 15, 15, 15, 15, 15,…\n",
      "$ address    \u001b[3m\u001b[90m<fct>\u001b[39m\u001b[23m U, U, U, U, U, U, U, U, U, U, U, U, U, U, U, U, U, U, U, U,…\n",
      "$ famsize    \u001b[3m\u001b[90m<fct>\u001b[39m\u001b[23m GT3, GT3, LE3, GT3, GT3, LE3, LE3, GT3, LE3, GT3, GT3, GT3,…\n",
      "$ pstatus    \u001b[3m\u001b[90m<fct>\u001b[39m\u001b[23m A, T, T, T, T, T, T, A, A, T, T, T, T, T, A, T, T, T, T, T,…\n",
      "$ medu       \u001b[3m\u001b[90m<dbl>\u001b[39m\u001b[23m 4, 1, 1, 4, 3, 4, 2, 4, 3, 3, 4, 2, 4, 4, 2, 4, 4, 3, 3, 4,…\n",
      "$ fedu       \u001b[3m\u001b[90m<dbl>\u001b[39m\u001b[23m 4, 1, 1, 2, 3, 3, 2, 4, 2, 4, 4, 1, 4, 3, 2, 4, 4, 3, 2, 3,…\n",
      "$ mjob       \u001b[3m\u001b[90m<fct>\u001b[39m\u001b[23m at_home, at_home, at_home, health, other, services, other, …\n",
      "$ fjob       \u001b[3m\u001b[90m<fct>\u001b[39m\u001b[23m teacher, other, other, services, other, other, other, teach…\n",
      "$ reason     \u001b[3m\u001b[90m<fct>\u001b[39m\u001b[23m course, course, other, home, home, reputation, home, home, …\n",
      "$ guardian   \u001b[3m\u001b[90m<fct>\u001b[39m\u001b[23m mother, father, mother, mother, father, mother, mother, mot…\n",
      "$ traveltime \u001b[3m\u001b[90m<dbl>\u001b[39m\u001b[23m 2, 1, 1, 1, 1, 1, 1, 2, 1, 1, 1, 3, 1, 2, 1, 1, 1, 3, 1, 1,…\n",
      "$ studytime  \u001b[3m\u001b[90m<dbl>\u001b[39m\u001b[23m 2, 2, 2, 3, 2, 2, 2, 2, 2, 2, 2, 3, 1, 2, 3, 1, 3, 2, 1, 1,…\n",
      "$ failures   \u001b[3m\u001b[90m<dbl>\u001b[39m\u001b[23m 0, 0, 3, 0, 0, 0, 0, 0, 0, 0, 0, 0, 0, 0, 0, 0, 0, 0, 3, 0,…\n",
      "$ schoolsup  \u001b[3m\u001b[90m<fct>\u001b[39m\u001b[23m yes, no, yes, no, no, no, no, yes, no, no, no, no, no, no, …\n",
      "$ famsup     \u001b[3m\u001b[90m<fct>\u001b[39m\u001b[23m no, yes, no, yes, yes, yes, no, yes, yes, yes, yes, yes, ye…\n",
      "$ paid       \u001b[3m\u001b[90m<fct>\u001b[39m\u001b[23m no, no, yes, yes, yes, yes, no, no, yes, yes, yes, no, yes,…\n",
      "$ activities \u001b[3m\u001b[90m<fct>\u001b[39m\u001b[23m no, no, no, yes, no, yes, no, no, no, yes, no, yes, yes, no…\n",
      "$ nursery    \u001b[3m\u001b[90m<fct>\u001b[39m\u001b[23m yes, no, yes, yes, yes, yes, yes, yes, yes, yes, yes, yes, …\n",
      "$ higher     \u001b[3m\u001b[90m<fct>\u001b[39m\u001b[23m yes, yes, yes, yes, yes, yes, yes, yes, yes, yes, yes, yes,…\n",
      "$ internet   \u001b[3m\u001b[90m<fct>\u001b[39m\u001b[23m no, yes, yes, yes, no, yes, yes, no, yes, yes, yes, yes, ye…\n",
      "$ romantic   \u001b[3m\u001b[90m<fct>\u001b[39m\u001b[23m no, no, no, yes, no, no, no, no, no, no, no, no, no, no, ye…\n",
      "$ famrel     \u001b[3m\u001b[90m<dbl>\u001b[39m\u001b[23m 4, 5, 4, 3, 4, 5, 4, 4, 4, 5, 3, 5, 4, 5, 4, 4, 3, 5, 5, 3,…\n",
      "$ freetime   \u001b[3m\u001b[90m<dbl>\u001b[39m\u001b[23m 3, 3, 3, 2, 3, 4, 4, 1, 2, 5, 3, 2, 3, 4, 5, 4, 2, 3, 5, 1,…\n",
      "$ goout      \u001b[3m\u001b[90m<dbl>\u001b[39m\u001b[23m 4, 3, 2, 2, 2, 2, 4, 4, 2, 1, 3, 2, 3, 3, 2, 4, 3, 2, 5, 3,…\n",
      "$ dalc       \u001b[3m\u001b[90m<dbl>\u001b[39m\u001b[23m 1, 1, 2, 1, 1, 1, 1, 1, 1, 1, 1, 1, 1, 1, 1, 1, 1, 1, 2, 1,…\n",
      "$ walc       \u001b[3m\u001b[90m<dbl>\u001b[39m\u001b[23m 1, 1, 3, 1, 2, 2, 1, 1, 1, 1, 2, 1, 3, 2, 1, 2, 2, 1, 4, 3,…\n",
      "$ health     \u001b[3m\u001b[90m<dbl>\u001b[39m\u001b[23m 3, 3, 3, 5, 5, 5, 3, 1, 1, 5, 2, 4, 5, 3, 3, 2, 2, 4, 5, 5,…\n",
      "$ absences   \u001b[3m\u001b[90m<dbl>\u001b[39m\u001b[23m 6, 4, 10, 2, 4, 10, 0, 6, 0, 0, 0, 4, 2, 2, 0, 4, 6, 4, 16,…\n",
      "$ g1         \u001b[3m\u001b[90m<dbl>\u001b[39m\u001b[23m 5, 5, 7, 15, 6, 15, 12, 6, 16, 14, 10, 10, 14, 10, 14, 14, …\n",
      "$ g2         \u001b[3m\u001b[90m<dbl>\u001b[39m\u001b[23m 6, 5, 8, 14, 10, 15, 12, 5, 18, 15, 8, 12, 14, 10, 16, 14, …\n",
      "$ g3         \u001b[3m\u001b[90m<dbl>\u001b[39m\u001b[23m 6, 6, 10, 15, 10, 15, 11, 6, 19, 15, 9, 12, 14, 11, 16, 14,…\n"
     ]
    }
   ],
   "source": [
    "# Changing categorical values to factor type\n",
    "data <- data |>\n",
    "  mutate(across(c(\n",
    "    school, sex, address, famsize, pstatus, mjob, fjob, reason, guardian,\n",
    "    schoolsup, famsup, paid, activities, nursery, higher, internet, romantic\n",
    "  ), as.factor))\n",
    "\n",
    "glimpse(data)"
   ]
  },
  {
   "cell_type": "markdown",
   "id": "39d7e280-a510-4deb-812d-f2d17de1ed57",
   "metadata": {},
   "source": [
    "**3. Gaining initial insights**"
   ]
  },
  {
   "cell_type": "markdown",
   "id": "f421d0db-7d15-418b-b944-1b752f5e39cd",
   "metadata": {},
   "source": [
    "**4. Cleaning and wrangling data**"
   ]
  },
  {
   "cell_type": "markdown",
   "id": "617e650b-e965-46a0-9ed3-56d0e0741672",
   "metadata": {},
   "source": [
    "**5. Visualizing some key points**"
   ]
  },
  {
   "cell_type": "markdown",
   "id": "206ee883-d49d-4269-b730-14b064d61974",
   "metadata": {},
   "source": [
    "### Methods"
   ]
  },
  {
   "cell_type": "markdown",
   "id": "aab28a4f-fa27-4ef5-affb-43b1277d72d5",
   "metadata": {},
   "source": [
    "Based on the dataset source in **kaggle** (https://www.kaggle.com/datasets/uciml/student-alcohol-consumption?select=student-merge.R), we can classify the columns as below:"
   ]
  },
  {
   "cell_type": "markdown",
   "id": "a8214ecd-6ec6-43e1-afe2-7d34f81d1226",
   "metadata": {},
   "source": [
    "1. **school** - student's school (binary: 'GP' - Gabriel Pereira or 'MS' - Mousinho da Silveira)\n",
    "2. **sex** - student's sex (binary: 'F' - female or 'M' - male)\n",
    "3. **age** - student's age (numeric: from 15 to 22)\n",
    "4. **address** - student's home address type (binary: 'U' - urban or 'R' - rural)\n",
    "5. **famsize** - family size (binary: 'LE3' - less or equal to 3 or 'GT3' - greater than 3)\n",
    "6. **pstatus** - parent's cohabitation status (binary: 'T' - living together or 'A' - apart)\n",
    "7. **medu** - mother's education (numeric: 0 - none, 1 - primary education (4th grade), 2 – 5th to 9th grade, 3 – secondary education or 4 – higher education)\n",
    "8. **fedu** - father's education (numeric: 0 - none, 1 - primary education (4th grade), 2 – 5th to 9th grade, 3 – secondary education or 4 – higher education)\n",
    "9. **mjob** - mother's job (nominal: 'teacher', 'health' care related, civil 'services' (e.g. administrative or police), 'at_home' or 'other')\n",
    "10. **fjob** - father's job (nominal: 'teacher', 'health' care related, civil 'services' (e.g. administrative or police), 'at_home' or 'other')\n",
    "11. **reason** - reason to choose this school (nominal: close to 'home', school 'reputation', 'course' preference or 'other')\n",
    "12. **guardian** - student's guardian (nominal: 'mother', 'father' or 'other')\n",
    "13. **traveltime** - home to school travel time (numeric: 1 - <15 min., 2 - 15 to 30 min., 3 - 30 min. to 1 hour, or 4 - >1 hour)\n",
    "14. **studytime** - weekly study time (numeric: 1 - <2 hours, 2 - 2 to 5 hours, 3 - 5 to 10 hours, or 4 - >10 hours)\n",
    "15. **failures** - number of past class failures (numeric: n if 1<=n<3, else 4)\n",
    "16. **schoolsup** - extra educational support (binary: yes or no)\n",
    "17. **famsup** - family educational support (binary: yes or no)\n",
    "18. **paid** - extra paid classes within the course subject (Math or Portuguese) (binary: yes or no)\n",
    "19. **activities** - extra-curricular activities (binary: yes or no)\n",
    "20. **nursery** - attended nursery school (binary: yes or no)\n",
    "21. **higher** - wants to take higher education (binary: yes or no)\n",
    "22. **internet** - Internet access at home (binary: yes or no)\n",
    "23. **romantic** - with a romantic relationship (binary: yes or no)\n",
    "24. **famrel** - quality of family relationships (numeric: from 1 - very bad to 5 - excellent)\n",
    "25. **freetime** - free time after school (numeric: from 1 - very low to 5 - very high)\n",
    "26. **goout** - going out with friends (numeric: from 1 - very low to 5 - very high)\n",
    "27. **dalc** - workday alcohol consumption (numeric: from 1 - very low to 5 - very high)\n",
    "28. **walc** - weekend alcohol consumption (numeric: from 1 - very low to 5 - very high)\n",
    "29. **health** - current health status (numeric: from 1 - very bad to 5 - very good)\n",
    "30. **absences** - number of school absences (numeric: from 0 to 93)"
   ]
  },
  {
   "cell_type": "markdown",
   "id": "d591731c-ecca-4875-9870-75a707c21d43",
   "metadata": {},
   "source": [
    "The two main focus of our data analyis will be **family** and **academics**.\n",
    "Other supporting factors will include *age*, *sex*, *internet*, and *romantic relationships*."
   ]
  },
  {
   "cell_type": "markdown",
   "id": "9f7d8a61-00eb-4438-84e7-512ca9b6ee92",
   "metadata": {},
   "source": [
    "### Expected Outcomes and Significance"
   ]
  },
  {
   "cell_type": "markdown",
   "id": "8026aa3e-4f99-4421-b7fa-b9477907f39b",
   "metadata": {},
   "source": [
    "What we would like to find:\n",
    "- How will a student's **family** will affect their alcohol consumption?\n",
    "- How their **academic success (grades)** will affect their alcohol comsumption?\n",
    "- Do romantic relationships and internet access also encourage students to consume more alcohol.\n",
    "- Which factor plays the biggest role in affecting a student's alcohol consumption\n",
    "- How do the trends for students' daily alcohol consumption and weekly alcohol consumption differ?"
   ]
  },
  {
   "cell_type": "markdown",
   "id": "2cc3ed50-cb37-4c8a-8b8c-07edd825508b",
   "metadata": {},
   "source": [
    "Such findings will be able to create a much bigger impact in the future, such as the policies and actions that an educational institution will take to manage these students' alcohol consumption, and also how families will take to handle their children's alcohol consumption."
   ]
  },
  {
   "cell_type": "markdown",
   "id": "da9a6785-9558-4974-807a-075f95b04ca8",
   "metadata": {},
   "source": [
    "Some future questions that this could lead to include:\n",
    "1. ...\n",
    "2. ..."
   ]
  },
  {
   "cell_type": "markdown",
   "id": "38cc6e75-ded6-4265-9316-37a697a59f06",
   "metadata": {},
   "source": [
    "### Bibliography"
   ]
  },
  {
   "cell_type": "markdown",
   "id": "468fc4d7-d653-46c4-8333-23ac62b2078c",
   "metadata": {},
   "source": [
    "P. Cortez and A. Silva. Using Data Mining to Predict Secondary School Student Performance. In A. Brito and J. Teixeira Eds., Proceedings of 5th FUture BUsiness TEChnology Conference (FUBUTEC 2008) pp. 5-12, Porto, Portugal, April, 2008, EUROSIS, ISBN 978-9077381-39-7.\n",
    "\n",
    "Fabio Pagnotta, Hossain Mohammad Amran.\n",
    "Email:fabio.pagnotta@studenti.unicam.it, mohammadamra.hossain '@' studenti.unicam.it\n",
    "University Of Camerino\n",
    "\n",
    "https://archive.ics.uci.edu/ml/datasets/STUDENT+ALCOHOL+CONSUMPTION"
   ]
  }
 ],
 "metadata": {
  "kernelspec": {
   "display_name": "R",
   "language": "R",
   "name": "ir"
  },
  "language_info": {
   "codemirror_mode": "r",
   "file_extension": ".r",
   "mimetype": "text/x-r-source",
   "name": "R",
   "pygments_lexer": "r",
   "version": "4.3.1"
  }
 },
 "nbformat": 4,
 "nbformat_minor": 5
}
