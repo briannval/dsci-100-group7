{
 "cells": [
  {
   "cell_type": "markdown",
   "id": "9d0ebfc4-4e06-4b56-a509-8ab9d77b0c10",
   "metadata": {},
   "source": [
    "# Unveiling Academic and Social Patterns: A Comprehensive Analysis of Student Alcohol Consumption Dataset"
   ]
  },
  {
   "cell_type": "markdown",
   "id": "1ad462bd-1ba7-42e7-abda-225263c14ce4",
   "metadata": {},
   "source": [
    "### by Brian Adhitya, Wyatt Howell, Brian Ko, Nishanth Selvakumar"
   ]
  },
  {
   "cell_type": "markdown",
   "id": "6a81fd51-f8af-4927-9ffa-127d0de6d045",
   "metadata": {},
   "source": [
    "### Introduction"
   ]
  },
  {
   "cell_type": "markdown",
   "id": "45630740-3b60-4c64-af0a-47f8e3ba7b68",
   "metadata": {},
   "source": [
    "Alcohol consumption has been high around the world, especially for students. ..."
   ]
  },
  {
   "cell_type": "markdown",
   "id": "36a74afd-6bea-4b36-b0b4-5504059bba67",
   "metadata": {},
   "source": [
    "With this analysis, we are trying to gain insights on what actually causes this students to drink, and ..."
   ]
  },
  {
   "cell_type": "markdown",
   "id": "694c32f5-5885-413f-ab65-713f5b6c3fe3",
   "metadata": {},
   "source": [
    "### Preeliminary exploratory data analysis"
   ]
  },
  {
   "cell_type": "markdown",
   "id": "82bcb78c-78df-4101-b8a9-c47e2cd67a60",
   "metadata": {},
   "source": [
    "**1. Loading the Dataset**"
   ]
  },
  {
   "cell_type": "markdown",
   "id": "1e58af23-90a9-40df-be9e-067013bcddb9",
   "metadata": {},
   "source": [
    "**2. Analyzing columns and rows**"
   ]
  },
  {
   "cell_type": "markdown",
   "id": "39d7e280-a510-4deb-812d-f2d17de1ed57",
   "metadata": {},
   "source": [
    "**3. ...**"
   ]
  },
  {
   "cell_type": "markdown",
   "id": "206ee883-d49d-4269-b730-14b064d61974",
   "metadata": {},
   "source": [
    "### Methods"
   ]
  },
  {
   "cell_type": "markdown",
   "id": "a8214ecd-6ec6-43e1-afe2-7d34f81d1226",
   "metadata": {},
   "source": [
    "**1. ...**"
   ]
  },
  {
   "cell_type": "markdown",
   "id": "9f7d8a61-00eb-4438-84e7-512ca9b6ee92",
   "metadata": {},
   "source": [
    "### Expected Outcomes and Significance"
   ]
  },
  {
   "cell_type": "markdown",
   "id": "8026aa3e-4f99-4421-b7fa-b9477907f39b",
   "metadata": {},
   "source": [
    "**1. ...**"
   ]
  },
  {
   "cell_type": "markdown",
   "id": "38cc6e75-ded6-4265-9316-37a697a59f06",
   "metadata": {},
   "source": [
    "### Bibliography"
   ]
  },
  {
   "cell_type": "markdown",
   "id": "468fc4d7-d653-46c4-8333-23ac62b2078c",
   "metadata": {},
   "source": [
    "P. Cortez and A. Silva. Using Data Mining to Predict Secondary School Student Performance. In A. Brito and J. Teixeira Eds., Proceedings of 5th FUture BUsiness TEChnology Conference (FUBUTEC 2008) pp. 5-12, Porto, Portugal, April, 2008, EUROSIS, ISBN 978-9077381-39-7.\n",
    "\n",
    "Fabio Pagnotta, Hossain Mohammad Amran.\n",
    "Email:fabio.pagnotta@studenti.unicam.it, mohammadamra.hossain '@' studenti.unicam.it\n",
    "University Of Camerino\n",
    "\n",
    "https://archive.ics.uci.edu/ml/datasets/STUDENT+ALCOHOL+CONSUMPTION"
   ]
  },
  {
   "cell_type": "code",
   "execution_count": null,
   "id": "6092e9b1-0ed1-4da4-99f9-953e5e9107df",
   "metadata": {},
   "outputs": [],
   "source": []
  }
 ],
 "metadata": {
  "kernelspec": {
   "display_name": "R",
   "language": "R",
   "name": "ir"
  },
  "language_info": {
   "codemirror_mode": "r",
   "file_extension": ".r",
   "mimetype": "text/x-r-source",
   "name": "R",
   "pygments_lexer": "r",
   "version": "4.3.1"
  }
 },
 "nbformat": 4,
 "nbformat_minor": 5
}
