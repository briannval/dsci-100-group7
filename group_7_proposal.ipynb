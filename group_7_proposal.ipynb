{
 "cells": [
  {
   "cell_type": "markdown",
   "id": "ff5be1df-86a1-4ed9-9516-0a4cd082d982",
   "metadata": {},
   "source": [
    "# Diabetes or not: A Comprehensive Analysis of Diabetical Symptoms in Pima Indians Diabetes Database #"
   ]
  },
  {
   "cell_type": "markdown",
   "id": "1f51df48-0081-486b-a859-e5ed849d78ab",
   "metadata": {},
   "source": [
    "### by Brian Adhitya, Wyatt Howell, Brian Ko, Nishanth Selvakumar"
   ]
  },
  {
   "cell_type": "markdown",
   "id": "08ff211d-2e36-43ce-ad7e-04820d70c6d0",
   "metadata": {},
   "source": [
    "### Introduction"
   ]
  },
  {
   "cell_type": "markdown",
   "id": "ae25fd82-09c9-4f43-a3ec-b9e99d7f1768",
   "metadata": {},
   "source": [
    "### Loading libraries"
   ]
  },
  {
   "cell_type": "code",
   "execution_count": 3,
   "id": "80f6d92d-f61d-4ca7-8b82-55a0ccac9ed1",
   "metadata": {},
   "outputs": [
    {
     "name": "stderr",
     "output_type": "stream",
     "text": [
      "── \u001b[1mAttaching core tidyverse packages\u001b[22m ──────────────────────── tidyverse 2.0.0 ──\n",
      "\u001b[32m✔\u001b[39m \u001b[34mdplyr    \u001b[39m 1.1.3     \u001b[32m✔\u001b[39m \u001b[34mreadr    \u001b[39m 2.1.4\n",
      "\u001b[32m✔\u001b[39m \u001b[34mforcats  \u001b[39m 1.0.0     \u001b[32m✔\u001b[39m \u001b[34mstringr  \u001b[39m 1.5.0\n",
      "\u001b[32m✔\u001b[39m \u001b[34mggplot2  \u001b[39m 3.4.4     \u001b[32m✔\u001b[39m \u001b[34mtibble   \u001b[39m 3.2.1\n",
      "\u001b[32m✔\u001b[39m \u001b[34mlubridate\u001b[39m 1.9.3     \u001b[32m✔\u001b[39m \u001b[34mtidyr    \u001b[39m 1.3.0\n",
      "\u001b[32m✔\u001b[39m \u001b[34mpurrr    \u001b[39m 1.0.2     \n",
      "── \u001b[1mConflicts\u001b[22m ────────────────────────────────────────── tidyverse_conflicts() ──\n",
      "\u001b[31m✖\u001b[39m \u001b[34mdplyr\u001b[39m::\u001b[32mfilter()\u001b[39m masks \u001b[34mstats\u001b[39m::filter()\n",
      "\u001b[31m✖\u001b[39m \u001b[34mdplyr\u001b[39m::\u001b[32mlag()\u001b[39m    masks \u001b[34mstats\u001b[39m::lag()\n",
      "\u001b[36mℹ\u001b[39m Use the conflicted package (\u001b[3m\u001b[34m<http://conflicted.r-lib.org/>\u001b[39m\u001b[23m) to force all conflicts to become errors\n",
      "\n",
      "Attaching package: ‘janitor’\n",
      "\n",
      "\n",
      "The following objects are masked from ‘package:stats’:\n",
      "\n",
      "    chisq.test, fisher.test\n",
      "\n",
      "\n",
      "── \u001b[1mAttaching packages\u001b[22m ────────────────────────────────────── tidymodels 1.1.1 ──\n",
      "\n",
      "\u001b[32m✔\u001b[39m \u001b[34mbroom       \u001b[39m 1.0.5     \u001b[32m✔\u001b[39m \u001b[34mrsample     \u001b[39m 1.2.0\n",
      "\u001b[32m✔\u001b[39m \u001b[34mdials       \u001b[39m 1.2.0     \u001b[32m✔\u001b[39m \u001b[34mtune        \u001b[39m 1.1.2\n",
      "\u001b[32m✔\u001b[39m \u001b[34minfer       \u001b[39m 1.0.5     \u001b[32m✔\u001b[39m \u001b[34mworkflows   \u001b[39m 1.1.3\n",
      "\u001b[32m✔\u001b[39m \u001b[34mmodeldata   \u001b[39m 1.2.0     \u001b[32m✔\u001b[39m \u001b[34mworkflowsets\u001b[39m 1.0.1\n",
      "\u001b[32m✔\u001b[39m \u001b[34mparsnip     \u001b[39m 1.1.1     \u001b[32m✔\u001b[39m \u001b[34myardstick   \u001b[39m 1.2.0\n",
      "\u001b[32m✔\u001b[39m \u001b[34mrecipes     \u001b[39m 1.0.8     \n",
      "\n",
      "── \u001b[1mConflicts\u001b[22m ───────────────────────────────────────── tidymodels_conflicts() ──\n",
      "\u001b[31m✖\u001b[39m \u001b[34mscales\u001b[39m::\u001b[32mdiscard()\u001b[39m masks \u001b[34mpurrr\u001b[39m::discard()\n",
      "\u001b[31m✖\u001b[39m \u001b[34mdplyr\u001b[39m::\u001b[32mfilter()\u001b[39m   masks \u001b[34mstats\u001b[39m::filter()\n",
      "\u001b[31m✖\u001b[39m \u001b[34mrecipes\u001b[39m::\u001b[32mfixed()\u001b[39m  masks \u001b[34mstringr\u001b[39m::fixed()\n",
      "\u001b[31m✖\u001b[39m \u001b[34mdplyr\u001b[39m::\u001b[32mlag()\u001b[39m      masks \u001b[34mstats\u001b[39m::lag()\n",
      "\u001b[31m✖\u001b[39m \u001b[34myardstick\u001b[39m::\u001b[32mspec()\u001b[39m masks \u001b[34mreadr\u001b[39m::spec()\n",
      "\u001b[31m✖\u001b[39m \u001b[34mrecipes\u001b[39m::\u001b[32mstep()\u001b[39m   masks \u001b[34mstats\u001b[39m::step()\n",
      "\u001b[34m•\u001b[39m Use \u001b[32mtidymodels_prefer()\u001b[39m to resolve common conflicts.\n",
      "\n"
     ]
    }
   ],
   "source": [
    "# importing libraries\n",
    "library(tidyverse)\n",
    "library(repr)\n",
    "library(janitor)\n",
    "library(ggplot2)\n",
    "library(tidymodels)\n",
    "library(RColorBrewer)"
   ]
  },
  {
   "cell_type": "markdown",
   "id": "17f0b209-dc3d-4dfe-b732-1c2bcb83f3c7",
   "metadata": {},
   "source": [
    "### Preeliminary exploratory data analysis"
   ]
  },
  {
   "cell_type": "markdown",
   "id": "87722459-6927-4bda-bbc9-f179175371fe",
   "metadata": {},
   "source": [
    "**1. Loading and cleaning the Dataset**"
   ]
  },
  {
   "cell_type": "code",
   "execution_count": 17,
   "id": "43ee4014-4c1e-400e-84d9-afaf555e4d7f",
   "metadata": {},
   "outputs": [
    {
     "name": "stderr",
     "output_type": "stream",
     "text": [
      "\u001b[1mRows: \u001b[22m\u001b[34m768\u001b[39m \u001b[1mColumns: \u001b[22m\u001b[34m9\u001b[39m\n",
      "\u001b[36m──\u001b[39m \u001b[1mColumn specification\u001b[22m \u001b[36m────────────────────────────────────────────────────────\u001b[39m\n",
      "\u001b[1mDelimiter:\u001b[22m \",\"\n",
      "\u001b[32mdbl\u001b[39m (9): Pregnancies, Glucose, BloodPressure, SkinThickness, Insulin, BMI, D...\n",
      "\n",
      "\u001b[36mℹ\u001b[39m Use `spec()` to retrieve the full column specification for this data.\n",
      "\u001b[36mℹ\u001b[39m Specify the column types or set `show_col_types = FALSE` to quiet this message.\n"
     ]
    },
    {
     "data": {
      "text/html": [
       "<table class=\"dataframe\">\n",
       "<caption>A tibble: 6 × 9</caption>\n",
       "<thead>\n",
       "\t<tr><th scope=col>pregnancies</th><th scope=col>glucose</th><th scope=col>blood_pressure</th><th scope=col>skin_thickness</th><th scope=col>insulin</th><th scope=col>bmi</th><th scope=col>diabetes_pedigree_function</th><th scope=col>age</th><th scope=col>diabetes</th></tr>\n",
       "\t<tr><th scope=col>&lt;dbl&gt;</th><th scope=col>&lt;dbl&gt;</th><th scope=col>&lt;dbl&gt;</th><th scope=col>&lt;dbl&gt;</th><th scope=col>&lt;dbl&gt;</th><th scope=col>&lt;dbl&gt;</th><th scope=col>&lt;dbl&gt;</th><th scope=col>&lt;dbl&gt;</th><th scope=col>&lt;fct&gt;</th></tr>\n",
       "</thead>\n",
       "<tbody>\n",
       "\t<tr><td>6</td><td>148</td><td>72</td><td>35</td><td>  0</td><td>33.6</td><td>0.627</td><td>50</td><td>Yes</td></tr>\n",
       "\t<tr><td>1</td><td> 85</td><td>66</td><td>29</td><td>  0</td><td>26.6</td><td>0.351</td><td>31</td><td>No </td></tr>\n",
       "\t<tr><td>8</td><td>183</td><td>64</td><td> 0</td><td>  0</td><td>23.3</td><td>0.672</td><td>32</td><td>Yes</td></tr>\n",
       "\t<tr><td>1</td><td> 89</td><td>66</td><td>23</td><td> 94</td><td>28.1</td><td>0.167</td><td>21</td><td>No </td></tr>\n",
       "\t<tr><td>0</td><td>137</td><td>40</td><td>35</td><td>168</td><td>43.1</td><td>2.288</td><td>33</td><td>Yes</td></tr>\n",
       "\t<tr><td>5</td><td>116</td><td>74</td><td> 0</td><td>  0</td><td>25.6</td><td>0.201</td><td>30</td><td>No </td></tr>\n",
       "</tbody>\n",
       "</table>\n"
      ],
      "text/latex": [
       "A tibble: 6 × 9\n",
       "\\begin{tabular}{lllllllll}\n",
       " pregnancies & glucose & blood\\_pressure & skin\\_thickness & insulin & bmi & diabetes\\_pedigree\\_function & age & diabetes\\\\\n",
       " <dbl> & <dbl> & <dbl> & <dbl> & <dbl> & <dbl> & <dbl> & <dbl> & <fct>\\\\\n",
       "\\hline\n",
       "\t 6 & 148 & 72 & 35 &   0 & 33.6 & 0.627 & 50 & Yes\\\\\n",
       "\t 1 &  85 & 66 & 29 &   0 & 26.6 & 0.351 & 31 & No \\\\\n",
       "\t 8 & 183 & 64 &  0 &   0 & 23.3 & 0.672 & 32 & Yes\\\\\n",
       "\t 1 &  89 & 66 & 23 &  94 & 28.1 & 0.167 & 21 & No \\\\\n",
       "\t 0 & 137 & 40 & 35 & 168 & 43.1 & 2.288 & 33 & Yes\\\\\n",
       "\t 5 & 116 & 74 &  0 &   0 & 25.6 & 0.201 & 30 & No \\\\\n",
       "\\end{tabular}\n"
      ],
      "text/markdown": [
       "\n",
       "A tibble: 6 × 9\n",
       "\n",
       "| pregnancies &lt;dbl&gt; | glucose &lt;dbl&gt; | blood_pressure &lt;dbl&gt; | skin_thickness &lt;dbl&gt; | insulin &lt;dbl&gt; | bmi &lt;dbl&gt; | diabetes_pedigree_function &lt;dbl&gt; | age &lt;dbl&gt; | diabetes &lt;fct&gt; |\n",
       "|---|---|---|---|---|---|---|---|---|\n",
       "| 6 | 148 | 72 | 35 |   0 | 33.6 | 0.627 | 50 | Yes |\n",
       "| 1 |  85 | 66 | 29 |   0 | 26.6 | 0.351 | 31 | No  |\n",
       "| 8 | 183 | 64 |  0 |   0 | 23.3 | 0.672 | 32 | Yes |\n",
       "| 1 |  89 | 66 | 23 |  94 | 28.1 | 0.167 | 21 | No  |\n",
       "| 0 | 137 | 40 | 35 | 168 | 43.1 | 2.288 | 33 | Yes |\n",
       "| 5 | 116 | 74 |  0 |   0 | 25.6 | 0.201 | 30 | No  |\n",
       "\n"
      ],
      "text/plain": [
       "  pregnancies glucose blood_pressure skin_thickness insulin bmi \n",
       "1 6           148     72             35               0     33.6\n",
       "2 1            85     66             29               0     26.6\n",
       "3 8           183     64              0               0     23.3\n",
       "4 1            89     66             23              94     28.1\n",
       "5 0           137     40             35             168     43.1\n",
       "6 5           116     74              0               0     25.6\n",
       "  diabetes_pedigree_function age diabetes\n",
       "1 0.627                      50  Yes     \n",
       "2 0.351                      31  No      \n",
       "3 0.672                      32  Yes     \n",
       "4 0.167                      21  No      \n",
       "5 2.288                      33  Yes     \n",
       "6 0.201                      30  No      "
      ]
     },
     "metadata": {},
     "output_type": "display_data"
    }
   ],
   "source": [
    "# Cleaning names and specifying categorical variable\n",
    "diabetes <- read_csv(\"data/diabetes.csv\") |>\n",
    "            clean_names() |>\n",
    "            mutate(outcome = as_factor(outcome)) |>\n",
    "            mutate(diabetes = fct_recode(outcome, \"Yes\" = \"1\", \"No\" = \"0\")) |>\n",
    "            select(-outcome)\n",
    "\n",
    "# Displaying the data\n",
    "head(diabetes)"
   ]
  },
  {
   "cell_type": "markdown",
   "id": "dd54fb48-490b-4b6e-b903-137d2bc1ab0a",
   "metadata": {},
   "source": [
    "**2. Splitting into testing and training**"
   ]
  },
  {
   "cell_type": "code",
   "execution_count": 21,
   "id": "2b48cb63-ee17-40dd-9f71-5739bd9513b1",
   "metadata": {},
   "outputs": [
    {
     "data": {
      "text/html": [
       "<table class=\"dataframe\">\n",
       "<caption>A tibble: 6 × 9</caption>\n",
       "<thead>\n",
       "\t<tr><th scope=col>pregnancies</th><th scope=col>glucose</th><th scope=col>blood_pressure</th><th scope=col>skin_thickness</th><th scope=col>insulin</th><th scope=col>bmi</th><th scope=col>diabetes_pedigree_function</th><th scope=col>age</th><th scope=col>diabetes</th></tr>\n",
       "\t<tr><th scope=col>&lt;dbl&gt;</th><th scope=col>&lt;dbl&gt;</th><th scope=col>&lt;dbl&gt;</th><th scope=col>&lt;dbl&gt;</th><th scope=col>&lt;dbl&gt;</th><th scope=col>&lt;dbl&gt;</th><th scope=col>&lt;dbl&gt;</th><th scope=col>&lt;dbl&gt;</th><th scope=col>&lt;fct&gt;</th></tr>\n",
       "</thead>\n",
       "<tbody>\n",
       "\t<tr><td> 1</td><td> 85</td><td>66</td><td>29</td><td> 0</td><td>26.6</td><td>0.351</td><td>31</td><td>No</td></tr>\n",
       "\t<tr><td> 1</td><td> 89</td><td>66</td><td>23</td><td>94</td><td>28.1</td><td>0.167</td><td>21</td><td>No</td></tr>\n",
       "\t<tr><td>10</td><td>115</td><td> 0</td><td> 0</td><td> 0</td><td>35.3</td><td>0.134</td><td>29</td><td>No</td></tr>\n",
       "\t<tr><td> 4</td><td>110</td><td>92</td><td> 0</td><td> 0</td><td>37.6</td><td>0.191</td><td>30</td><td>No</td></tr>\n",
       "\t<tr><td>10</td><td>139</td><td>80</td><td> 0</td><td> 0</td><td>27.1</td><td>1.441</td><td>57</td><td>No</td></tr>\n",
       "\t<tr><td> 1</td><td>103</td><td>30</td><td>38</td><td>83</td><td>43.3</td><td>0.183</td><td>33</td><td>No</td></tr>\n",
       "</tbody>\n",
       "</table>\n"
      ],
      "text/latex": [
       "A tibble: 6 × 9\n",
       "\\begin{tabular}{lllllllll}\n",
       " pregnancies & glucose & blood\\_pressure & skin\\_thickness & insulin & bmi & diabetes\\_pedigree\\_function & age & diabetes\\\\\n",
       " <dbl> & <dbl> & <dbl> & <dbl> & <dbl> & <dbl> & <dbl> & <dbl> & <fct>\\\\\n",
       "\\hline\n",
       "\t  1 &  85 & 66 & 29 &  0 & 26.6 & 0.351 & 31 & No\\\\\n",
       "\t  1 &  89 & 66 & 23 & 94 & 28.1 & 0.167 & 21 & No\\\\\n",
       "\t 10 & 115 &  0 &  0 &  0 & 35.3 & 0.134 & 29 & No\\\\\n",
       "\t  4 & 110 & 92 &  0 &  0 & 37.6 & 0.191 & 30 & No\\\\\n",
       "\t 10 & 139 & 80 &  0 &  0 & 27.1 & 1.441 & 57 & No\\\\\n",
       "\t  1 & 103 & 30 & 38 & 83 & 43.3 & 0.183 & 33 & No\\\\\n",
       "\\end{tabular}\n"
      ],
      "text/markdown": [
       "\n",
       "A tibble: 6 × 9\n",
       "\n",
       "| pregnancies &lt;dbl&gt; | glucose &lt;dbl&gt; | blood_pressure &lt;dbl&gt; | skin_thickness &lt;dbl&gt; | insulin &lt;dbl&gt; | bmi &lt;dbl&gt; | diabetes_pedigree_function &lt;dbl&gt; | age &lt;dbl&gt; | diabetes &lt;fct&gt; |\n",
       "|---|---|---|---|---|---|---|---|---|\n",
       "|  1 |  85 | 66 | 29 |  0 | 26.6 | 0.351 | 31 | No |\n",
       "|  1 |  89 | 66 | 23 | 94 | 28.1 | 0.167 | 21 | No |\n",
       "| 10 | 115 |  0 |  0 |  0 | 35.3 | 0.134 | 29 | No |\n",
       "|  4 | 110 | 92 |  0 |  0 | 37.6 | 0.191 | 30 | No |\n",
       "| 10 | 139 | 80 |  0 |  0 | 27.1 | 1.441 | 57 | No |\n",
       "|  1 | 103 | 30 | 38 | 83 | 43.3 | 0.183 | 33 | No |\n",
       "\n"
      ],
      "text/plain": [
       "  pregnancies glucose blood_pressure skin_thickness insulin bmi \n",
       "1  1           85     66             29              0      26.6\n",
       "2  1           89     66             23             94      28.1\n",
       "3 10          115      0              0              0      35.3\n",
       "4  4          110     92              0              0      37.6\n",
       "5 10          139     80              0              0      27.1\n",
       "6  1          103     30             38             83      43.3\n",
       "  diabetes_pedigree_function age diabetes\n",
       "1 0.351                      31  No      \n",
       "2 0.167                      21  No      \n",
       "3 0.134                      29  No      \n",
       "4 0.191                      30  No      \n",
       "5 1.441                      57  No      \n",
       "6 0.183                      33  No      "
      ]
     },
     "metadata": {},
     "output_type": "display_data"
    }
   ],
   "source": [
    "# splitting the diatabes data\n",
    "diabetes_split <- initial_split(diabetes, prop = 0.75, strata = diabetes)\n",
    "\n",
    "# training data\n",
    "diabetes_training <- training(diabetes_split)\n",
    "\n",
    "# testing data\n",
    "diabetes_testing <- testing(diabetes_split)\n",
    "\n",
    "# the data to be used\n",
    "head(diabetes_training)"
   ]
  },
  {
   "cell_type": "markdown",
   "id": "917918b5-7045-4c27-a90b-272d09215279",
   "metadata": {},
   "source": [
    "**3. Cleaning and wrangling data**"
   ]
  },
  {
   "cell_type": "markdown",
   "id": "6d8944e8-77da-4c59-8251-8b60a3f65420",
   "metadata": {},
   "source": [
    "**4. Visualizing some key points**"
   ]
  },
  {
   "cell_type": "markdown",
   "id": "ae3d3581-2306-4ce5-9683-dbd7cd95f07a",
   "metadata": {},
   "source": [
    "### Methods"
   ]
  },
  {
   "cell_type": "markdown",
   "id": "c6a46299-6856-4ec9-a470-60e7b5a638a0",
   "metadata": {},
   "source": [
    "Based on the dataset source in **kaggle** (https://www.kaggle.com/datasets/uciml/pima-indians-diabetes-database), we can classify the columns as below:\n",
    "\n",
    "1. **pregnancies** - Number of times pregnant \n",
    "2. **glucose** - Plasma glucose concentration a 2 hours in an oral glucose tolerance test\n",
    "3. **blood pressure** - Diastolic blood pressure (mm Hg)\n",
    "4. **skin thickness** - Triceps skin fold thickness (mm)\n",
    "5. **insulin** - 2-Hour serum insulin (mu U/ml)\n",
    "6. **bmi** - Body mass index (weight in kg/(height in m)^2)\n",
    "7. **diabetic pedigree function** - Diabetes pedigree function\n",
    "8. **age** - Age (years)\n",
    "9. **diabetes** - Class variable (0 or 1) 268 of 768 are 1, the others are 0\n"
   ]
  },
  {
   "cell_type": "markdown",
   "id": "8443d1b2-21a6-4c7e-aad4-0da4cac16c31",
   "metadata": {},
   "source": [
    "### Expected Outcomes and Significance"
   ]
  },
  {
   "cell_type": "markdown",
   "id": "96445413-1579-4831-b7ee-442657769cab",
   "metadata": {},
   "source": [
    "What we would like to find:\n",
    "- Finding 1\n",
    "- Finding 2\n",
    "- Finding 3"
   ]
  },
  {
   "cell_type": "markdown",
   "id": "8db19d33-0e87-4104-8243-feb8892e0152",
   "metadata": {},
   "source": [
    "Such findings will be able to create a much bigger impact in the future, such as ..."
   ]
  },
  {
   "cell_type": "markdown",
   "id": "888bfbef-5a37-4fb7-9e22-4cd3bacc2a20",
   "metadata": {},
   "source": [
    "Some future questions that this could lead to include:\n",
    "1. Question 1\n",
    "2. Question 2\n",
    "3. Question 3"
   ]
  },
  {
   "cell_type": "markdown",
   "id": "f9a76335-04c3-49d2-a53d-b41636a22347",
   "metadata": {},
   "source": [
    "### Bibliography"
   ]
  },
  {
   "cell_type": "markdown",
   "id": "6f9df17a-88b8-4a1f-8931-3af6fcc331f0",
   "metadata": {},
   "source": [
    "Smith, J.W., Everhart, J.E., Dickson, W.C., Knowler, W.C., & Johannes, R.S. (1988). Using the ADAP learning algorithm to forecast the onset of diabetes mellitus. In Proceedings of the Symposium on Computer Applications and Medical Care (pp. 261--265). IEEE Computer Society Press."
   ]
  }
 ],
 "metadata": {
  "kernelspec": {
   "display_name": "R",
   "language": "R",
   "name": "ir"
  },
  "language_info": {
   "codemirror_mode": "r",
   "file_extension": ".r",
   "mimetype": "text/x-r-source",
   "name": "R",
   "pygments_lexer": "r",
   "version": "4.3.1"
  }
 },
 "nbformat": 4,
 "nbformat_minor": 5
}
