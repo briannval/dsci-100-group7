{
 "cells": [
  {
   "cell_type": "markdown",
   "id": "ff5be1df-86a1-4ed9-9516-0a4cd082d982",
   "metadata": {},
   "source": [
    "# Diabetes or not: A Comprehensive Analysis of Diabetical Symptoms in Pima Indians Diabetes Database #"
   ]
  },
  {
   "cell_type": "markdown",
   "id": "1f51df48-0081-486b-a859-e5ed849d78ab",
   "metadata": {},
   "source": [
    "### by Brian Adhitya, Wyatt Howell, Brian Ko, Nishanth Selvakumar"
   ]
  },
  {
   "cell_type": "markdown",
   "id": "08ff211d-2e36-43ce-ad7e-04820d70c6d0",
   "metadata": {},
   "source": [
    "### Introduction"
   ]
  },
  {
   "cell_type": "markdown",
   "id": "ae25fd82-09c9-4f43-a3ec-b9e99d7f1768",
   "metadata": {},
   "source": [
    "### Loading libraries"
   ]
  },
  {
   "cell_type": "markdown",
   "id": "17f0b209-dc3d-4dfe-b732-1c2bcb83f3c7",
   "metadata": {},
   "source": [
    "### Preeliminary exploratory data analysis"
   ]
  },
  {
   "cell_type": "markdown",
   "id": "87722459-6927-4bda-bbc9-f179175371fe",
   "metadata": {},
   "source": [
    "**1. Loading the Dataset**"
   ]
  },
  {
   "cell_type": "markdown",
   "id": "0def214a-a0d9-4758-982f-b8b952b8ebd1",
   "metadata": {},
   "source": [
    "**2. Cleaning columns and rows**"
   ]
  },
  {
   "cell_type": "markdown",
   "id": "dd54fb48-490b-4b6e-b903-137d2bc1ab0a",
   "metadata": {},
   "source": [
    "**3. Splitting into testing and training**"
   ]
  },
  {
   "cell_type": "markdown",
   "id": "917918b5-7045-4c27-a90b-272d09215279",
   "metadata": {},
   "source": [
    "**4. Cleaning and wrangling data**"
   ]
  },
  {
   "cell_type": "markdown",
   "id": "6d8944e8-77da-4c59-8251-8b60a3f65420",
   "metadata": {},
   "source": [
    "**5. Visualizing some key points**"
   ]
  },
  {
   "cell_type": "markdown",
   "id": "ae3d3581-2306-4ce5-9683-dbd7cd95f07a",
   "metadata": {},
   "source": [
    "### Methods"
   ]
  },
  {
   "cell_type": "markdown",
   "id": "dee2a3b9-12a7-455b-9600-4de4d5e9f56d",
   "metadata": {},
   "source": [
    "### Expected Outcomes and Significance"
   ]
  },
  {
   "cell_type": "markdown",
   "id": "f9a76335-04c3-49d2-a53d-b41636a22347",
   "metadata": {},
   "source": [
    "### Bibliography"
   ]
  },
  {
   "cell_type": "code",
   "execution_count": null,
   "id": "41d67ea9-24d4-446f-a586-32779232fab3",
   "metadata": {},
   "outputs": [],
   "source": []
  }
 ],
 "metadata": {
  "kernelspec": {
   "display_name": "R",
   "language": "R",
   "name": "ir"
  },
  "language_info": {
   "codemirror_mode": "r",
   "file_extension": ".r",
   "mimetype": "text/x-r-source",
   "name": "R",
   "pygments_lexer": "r",
   "version": "4.3.1"
  }
 },
 "nbformat": 4,
 "nbformat_minor": 5
}
