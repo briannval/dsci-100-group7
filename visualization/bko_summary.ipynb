{
 "cells": [
  {
   "cell_type": "markdown",
   "id": "167cbf8b-7084-4f29-9744-4172636cfd55",
   "metadata": {},
   "source": [
    "Summary Tables"
   ]
  },
  {
   "cell_type": "code",
   "execution_count": 2,
   "id": "2a7924fd-1b03-412b-a2b7-c8a3d1a92ed0",
   "metadata": {},
   "outputs": [
    {
     "name": "stderr",
     "output_type": "stream",
     "text": [
      "── \u001b[1mAttaching core tidyverse packages\u001b[22m ──────────────────────── tidyverse 2.0.0 ──\n",
      "\u001b[32m✔\u001b[39m \u001b[34mdplyr    \u001b[39m 1.1.3     \u001b[32m✔\u001b[39m \u001b[34mreadr    \u001b[39m 2.1.4\n",
      "\u001b[32m✔\u001b[39m \u001b[34mforcats  \u001b[39m 1.0.0     \u001b[32m✔\u001b[39m \u001b[34mstringr  \u001b[39m 1.5.0\n",
      "\u001b[32m✔\u001b[39m \u001b[34mggplot2  \u001b[39m 3.4.4     \u001b[32m✔\u001b[39m \u001b[34mtibble   \u001b[39m 3.2.1\n",
      "\u001b[32m✔\u001b[39m \u001b[34mlubridate\u001b[39m 1.9.3     \u001b[32m✔\u001b[39m \u001b[34mtidyr    \u001b[39m 1.3.0\n",
      "\u001b[32m✔\u001b[39m \u001b[34mpurrr    \u001b[39m 1.0.2     \n",
      "── \u001b[1mConflicts\u001b[22m ────────────────────────────────────────── tidyverse_conflicts() ──\n",
      "\u001b[31m✖\u001b[39m \u001b[34mdplyr\u001b[39m::\u001b[32mfilter()\u001b[39m masks \u001b[34mstats\u001b[39m::filter()\n",
      "\u001b[31m✖\u001b[39m \u001b[34mdplyr\u001b[39m::\u001b[32mlag()\u001b[39m    masks \u001b[34mstats\u001b[39m::lag()\n",
      "\u001b[36mℹ\u001b[39m Use the conflicted package (\u001b[3m\u001b[34m<http://conflicted.r-lib.org/>\u001b[39m\u001b[23m) to force all conflicts to become errors\n",
      "\n",
      "Attaching package: ‘janitor’\n",
      "\n",
      "\n",
      "The following objects are masked from ‘package:stats’:\n",
      "\n",
      "    chisq.test, fisher.test\n",
      "\n",
      "\n",
      "── \u001b[1mAttaching packages\u001b[22m ────────────────────────────────────── tidymodels 1.1.1 ──\n",
      "\n",
      "\u001b[32m✔\u001b[39m \u001b[34mbroom       \u001b[39m 1.0.5     \u001b[32m✔\u001b[39m \u001b[34mrsample     \u001b[39m 1.2.0\n",
      "\u001b[32m✔\u001b[39m \u001b[34mdials       \u001b[39m 1.2.0     \u001b[32m✔\u001b[39m \u001b[34mtune        \u001b[39m 1.1.2\n",
      "\u001b[32m✔\u001b[39m \u001b[34minfer       \u001b[39m 1.0.5     \u001b[32m✔\u001b[39m \u001b[34mworkflows   \u001b[39m 1.1.3\n",
      "\u001b[32m✔\u001b[39m \u001b[34mmodeldata   \u001b[39m 1.2.0     \u001b[32m✔\u001b[39m \u001b[34mworkflowsets\u001b[39m 1.0.1\n",
      "\u001b[32m✔\u001b[39m \u001b[34mparsnip     \u001b[39m 1.1.1     \u001b[32m✔\u001b[39m \u001b[34myardstick   \u001b[39m 1.2.0\n",
      "\u001b[32m✔\u001b[39m \u001b[34mrecipes     \u001b[39m 1.0.8     \n",
      "\n",
      "── \u001b[1mConflicts\u001b[22m ───────────────────────────────────────── tidymodels_conflicts() ──\n",
      "\u001b[31m✖\u001b[39m \u001b[34mscales\u001b[39m::\u001b[32mdiscard()\u001b[39m masks \u001b[34mpurrr\u001b[39m::discard()\n",
      "\u001b[31m✖\u001b[39m \u001b[34mdplyr\u001b[39m::\u001b[32mfilter()\u001b[39m   masks \u001b[34mstats\u001b[39m::filter()\n",
      "\u001b[31m✖\u001b[39m \u001b[34mrecipes\u001b[39m::\u001b[32mfixed()\u001b[39m  masks \u001b[34mstringr\u001b[39m::fixed()\n",
      "\u001b[31m✖\u001b[39m \u001b[34mdplyr\u001b[39m::\u001b[32mlag()\u001b[39m      masks \u001b[34mstats\u001b[39m::lag()\n",
      "\u001b[31m✖\u001b[39m \u001b[34myardstick\u001b[39m::\u001b[32mspec()\u001b[39m masks \u001b[34mreadr\u001b[39m::spec()\n",
      "\u001b[31m✖\u001b[39m \u001b[34mrecipes\u001b[39m::\u001b[32mstep()\u001b[39m   masks \u001b[34mstats\u001b[39m::step()\n",
      "\u001b[34m•\u001b[39m Dig deeper into tidy modeling with R at \u001b[32mhttps://www.tmwr.org\u001b[39m\n",
      "\n"
     ]
    }
   ],
   "source": [
    "# importing libraries\n",
    "library(tidyverse)\n",
    "library(repr)\n",
    "library(janitor)\n",
    "library(ggplot2)\n",
    "library(tidymodels)\n",
    "library(RColorBrewer)\n"
   ]
  },
  {
   "cell_type": "code",
   "execution_count": 3,
   "id": "7f94d081-3e82-4104-bc11-afe819c51109",
   "metadata": {},
   "outputs": [
    {
     "name": "stderr",
     "output_type": "stream",
     "text": [
      "\u001b[1mRows: \u001b[22m\u001b[34m768\u001b[39m \u001b[1mColumns: \u001b[22m\u001b[34m9\u001b[39m\n",
      "\u001b[36m──\u001b[39m \u001b[1mColumn specification\u001b[22m \u001b[36m────────────────────────────────────────────────────────\u001b[39m\n",
      "\u001b[1mDelimiter:\u001b[22m \",\"\n",
      "\u001b[32mdbl\u001b[39m (9): Pregnancies, Glucose, BloodPressure, SkinThickness, Insulin, BMI, D...\n",
      "\n",
      "\u001b[36mℹ\u001b[39m Use `spec()` to retrieve the full column specification for this data.\n",
      "\u001b[36mℹ\u001b[39m Specify the column types or set `show_col_types = FALSE` to quiet this message.\n"
     ]
    }
   ],
   "source": [
    "# Cleaning names and specifying categorical variable\n",
    "diabetes <- read_csv(\"../data/diabetes.csv\") |>\n",
    "        \tclean_names() |>\n",
    "        \tmutate(outcome = as_factor(outcome)) |>\n",
    "        \tmutate(diabetes = fct_recode(outcome, \"Yes\" = \"1\", \"No\" = \"0\")) |>\n",
    "        \tselect(-outcome)\n"
   ]
  },
  {
   "cell_type": "code",
   "execution_count": 4,
   "id": "15a4de86-e762-4733-86ef-5f46d1c70ff4",
   "metadata": {},
   "outputs": [
    {
     "data": {
      "text/html": [
       "<table class=\"dataframe\">\n",
       "<caption>A tibble: 6 × 9</caption>\n",
       "<thead>\n",
       "\t<tr><th scope=col>pregnancies</th><th scope=col>glucose</th><th scope=col>blood_pressure</th><th scope=col>skin_thickness</th><th scope=col>insulin</th><th scope=col>bmi</th><th scope=col>diabetes_pedigree_function</th><th scope=col>age</th><th scope=col>diabetes</th></tr>\n",
       "\t<tr><th scope=col>&lt;dbl&gt;</th><th scope=col>&lt;dbl&gt;</th><th scope=col>&lt;dbl&gt;</th><th scope=col>&lt;dbl&gt;</th><th scope=col>&lt;dbl&gt;</th><th scope=col>&lt;dbl&gt;</th><th scope=col>&lt;dbl&gt;</th><th scope=col>&lt;dbl&gt;</th><th scope=col>&lt;fct&gt;</th></tr>\n",
       "</thead>\n",
       "<tbody>\n",
       "\t<tr><td>6</td><td>148</td><td>72</td><td>35</td><td>  0</td><td>33.6</td><td>0.627</td><td>50</td><td>Yes</td></tr>\n",
       "\t<tr><td>1</td><td> 85</td><td>66</td><td>29</td><td>  0</td><td>26.6</td><td>0.351</td><td>31</td><td>No </td></tr>\n",
       "\t<tr><td>8</td><td>183</td><td>64</td><td> 0</td><td>  0</td><td>23.3</td><td>0.672</td><td>32</td><td>Yes</td></tr>\n",
       "\t<tr><td>1</td><td> 89</td><td>66</td><td>23</td><td> 94</td><td>28.1</td><td>0.167</td><td>21</td><td>No </td></tr>\n",
       "\t<tr><td>0</td><td>137</td><td>40</td><td>35</td><td>168</td><td>43.1</td><td>2.288</td><td>33</td><td>Yes</td></tr>\n",
       "\t<tr><td>5</td><td>116</td><td>74</td><td> 0</td><td>  0</td><td>25.6</td><td>0.201</td><td>30</td><td>No </td></tr>\n",
       "</tbody>\n",
       "</table>\n"
      ],
      "text/latex": [
       "A tibble: 6 × 9\n",
       "\\begin{tabular}{lllllllll}\n",
       " pregnancies & glucose & blood\\_pressure & skin\\_thickness & insulin & bmi & diabetes\\_pedigree\\_function & age & diabetes\\\\\n",
       " <dbl> & <dbl> & <dbl> & <dbl> & <dbl> & <dbl> & <dbl> & <dbl> & <fct>\\\\\n",
       "\\hline\n",
       "\t 6 & 148 & 72 & 35 &   0 & 33.6 & 0.627 & 50 & Yes\\\\\n",
       "\t 1 &  85 & 66 & 29 &   0 & 26.6 & 0.351 & 31 & No \\\\\n",
       "\t 8 & 183 & 64 &  0 &   0 & 23.3 & 0.672 & 32 & Yes\\\\\n",
       "\t 1 &  89 & 66 & 23 &  94 & 28.1 & 0.167 & 21 & No \\\\\n",
       "\t 0 & 137 & 40 & 35 & 168 & 43.1 & 2.288 & 33 & Yes\\\\\n",
       "\t 5 & 116 & 74 &  0 &   0 & 25.6 & 0.201 & 30 & No \\\\\n",
       "\\end{tabular}\n"
      ],
      "text/markdown": [
       "\n",
       "A tibble: 6 × 9\n",
       "\n",
       "| pregnancies &lt;dbl&gt; | glucose &lt;dbl&gt; | blood_pressure &lt;dbl&gt; | skin_thickness &lt;dbl&gt; | insulin &lt;dbl&gt; | bmi &lt;dbl&gt; | diabetes_pedigree_function &lt;dbl&gt; | age &lt;dbl&gt; | diabetes &lt;fct&gt; |\n",
       "|---|---|---|---|---|---|---|---|---|\n",
       "| 6 | 148 | 72 | 35 |   0 | 33.6 | 0.627 | 50 | Yes |\n",
       "| 1 |  85 | 66 | 29 |   0 | 26.6 | 0.351 | 31 | No  |\n",
       "| 8 | 183 | 64 |  0 |   0 | 23.3 | 0.672 | 32 | Yes |\n",
       "| 1 |  89 | 66 | 23 |  94 | 28.1 | 0.167 | 21 | No  |\n",
       "| 0 | 137 | 40 | 35 | 168 | 43.1 | 2.288 | 33 | Yes |\n",
       "| 5 | 116 | 74 |  0 |   0 | 25.6 | 0.201 | 30 | No  |\n",
       "\n"
      ],
      "text/plain": [
       "  pregnancies glucose blood_pressure skin_thickness insulin bmi \n",
       "1 6           148     72             35               0     33.6\n",
       "2 1            85     66             29               0     26.6\n",
       "3 8           183     64              0               0     23.3\n",
       "4 1            89     66             23              94     28.1\n",
       "5 0           137     40             35             168     43.1\n",
       "6 5           116     74              0               0     25.6\n",
       "  diabetes_pedigree_function age diabetes\n",
       "1 0.627                      50  Yes     \n",
       "2 0.351                      31  No      \n",
       "3 0.672                      32  Yes     \n",
       "4 0.167                      21  No      \n",
       "5 2.288                      33  Yes     \n",
       "6 0.201                      30  No      "
      ]
     },
     "metadata": {},
     "output_type": "display_data"
    }
   ],
   "source": [
    "# Displaying the data\n",
    "head(diabetes)\n"
   ]
  },
  {
   "cell_type": "code",
   "execution_count": 5,
   "id": "5374366a-3a4a-4e7d-b81c-d571a28319d9",
   "metadata": {},
   "outputs": [
    {
     "data": {
      "text/html": [
       "<table class=\"dataframe\">\n",
       "<caption>A tibble: 6 × 9</caption>\n",
       "<thead>\n",
       "\t<tr><th scope=col>pregnancies</th><th scope=col>glucose</th><th scope=col>blood_pressure</th><th scope=col>skin_thickness</th><th scope=col>insulin</th><th scope=col>bmi</th><th scope=col>diabetes_pedigree_function</th><th scope=col>age</th><th scope=col>diabetes</th></tr>\n",
       "\t<tr><th scope=col>&lt;dbl&gt;</th><th scope=col>&lt;dbl&gt;</th><th scope=col>&lt;dbl&gt;</th><th scope=col>&lt;dbl&gt;</th><th scope=col>&lt;dbl&gt;</th><th scope=col>&lt;dbl&gt;</th><th scope=col>&lt;dbl&gt;</th><th scope=col>&lt;dbl&gt;</th><th scope=col>&lt;fct&gt;</th></tr>\n",
       "</thead>\n",
       "<tbody>\n",
       "\t<tr><td> 1</td><td> 85</td><td>66</td><td>29</td><td> 0</td><td>26.6</td><td>0.351</td><td>31</td><td>No</td></tr>\n",
       "\t<tr><td> 1</td><td> 89</td><td>66</td><td>23</td><td>94</td><td>28.1</td><td>0.167</td><td>21</td><td>No</td></tr>\n",
       "\t<tr><td> 5</td><td>116</td><td>74</td><td> 0</td><td> 0</td><td>25.6</td><td>0.201</td><td>30</td><td>No</td></tr>\n",
       "\t<tr><td>10</td><td>115</td><td> 0</td><td> 0</td><td> 0</td><td>35.3</td><td>0.134</td><td>29</td><td>No</td></tr>\n",
       "\t<tr><td> 4</td><td>110</td><td>92</td><td> 0</td><td> 0</td><td>37.6</td><td>0.191</td><td>30</td><td>No</td></tr>\n",
       "\t<tr><td>10</td><td>139</td><td>80</td><td> 0</td><td> 0</td><td>27.1</td><td>1.441</td><td>57</td><td>No</td></tr>\n",
       "</tbody>\n",
       "</table>\n"
      ],
      "text/latex": [
       "A tibble: 6 × 9\n",
       "\\begin{tabular}{lllllllll}\n",
       " pregnancies & glucose & blood\\_pressure & skin\\_thickness & insulin & bmi & diabetes\\_pedigree\\_function & age & diabetes\\\\\n",
       " <dbl> & <dbl> & <dbl> & <dbl> & <dbl> & <dbl> & <dbl> & <dbl> & <fct>\\\\\n",
       "\\hline\n",
       "\t  1 &  85 & 66 & 29 &  0 & 26.6 & 0.351 & 31 & No\\\\\n",
       "\t  1 &  89 & 66 & 23 & 94 & 28.1 & 0.167 & 21 & No\\\\\n",
       "\t  5 & 116 & 74 &  0 &  0 & 25.6 & 0.201 & 30 & No\\\\\n",
       "\t 10 & 115 &  0 &  0 &  0 & 35.3 & 0.134 & 29 & No\\\\\n",
       "\t  4 & 110 & 92 &  0 &  0 & 37.6 & 0.191 & 30 & No\\\\\n",
       "\t 10 & 139 & 80 &  0 &  0 & 27.1 & 1.441 & 57 & No\\\\\n",
       "\\end{tabular}\n"
      ],
      "text/markdown": [
       "\n",
       "A tibble: 6 × 9\n",
       "\n",
       "| pregnancies &lt;dbl&gt; | glucose &lt;dbl&gt; | blood_pressure &lt;dbl&gt; | skin_thickness &lt;dbl&gt; | insulin &lt;dbl&gt; | bmi &lt;dbl&gt; | diabetes_pedigree_function &lt;dbl&gt; | age &lt;dbl&gt; | diabetes &lt;fct&gt; |\n",
       "|---|---|---|---|---|---|---|---|---|\n",
       "|  1 |  85 | 66 | 29 |  0 | 26.6 | 0.351 | 31 | No |\n",
       "|  1 |  89 | 66 | 23 | 94 | 28.1 | 0.167 | 21 | No |\n",
       "|  5 | 116 | 74 |  0 |  0 | 25.6 | 0.201 | 30 | No |\n",
       "| 10 | 115 |  0 |  0 |  0 | 35.3 | 0.134 | 29 | No |\n",
       "|  4 | 110 | 92 |  0 |  0 | 37.6 | 0.191 | 30 | No |\n",
       "| 10 | 139 | 80 |  0 |  0 | 27.1 | 1.441 | 57 | No |\n",
       "\n"
      ],
      "text/plain": [
       "  pregnancies glucose blood_pressure skin_thickness insulin bmi \n",
       "1  1           85     66             29              0      26.6\n",
       "2  1           89     66             23             94      28.1\n",
       "3  5          116     74              0              0      25.6\n",
       "4 10          115      0              0              0      35.3\n",
       "5  4          110     92              0              0      37.6\n",
       "6 10          139     80              0              0      27.1\n",
       "  diabetes_pedigree_function age diabetes\n",
       "1 0.351                      31  No      \n",
       "2 0.167                      21  No      \n",
       "3 0.201                      30  No      \n",
       "4 0.134                      29  No      \n",
       "5 0.191                      30  No      \n",
       "6 1.441                      57  No      "
      ]
     },
     "metadata": {},
     "output_type": "display_data"
    }
   ],
   "source": [
    "# splitting the diatabes data\n",
    "diabetes_split <- initial_split(diabetes, prop = 0.75, strata = diabetes)\n",
    "\n",
    "# training data\n",
    "diabetes_training <- training(diabetes_split)\n",
    "\n",
    "# testing data\n",
    "diabetes_testing <- testing(diabetes_split)\n",
    "\n",
    "# the data to be used\n",
    "head(diabetes_training)\n"
   ]
  },
  {
   "cell_type": "code",
   "execution_count": 7,
   "id": "4bce5042-58c8-4472-af44-47c0f090001c",
   "metadata": {},
   "outputs": [
    {
     "data": {
      "text/html": [
       "<table class=\"dataframe\">\n",
       "<caption>A tibble: 2 × 4</caption>\n",
       "<thead>\n",
       "\t<tr><th scope=col>diabetes</th><th scope=col>average_glucose</th><th scope=col>average_bmi</th><th scope=col>average_blood_pressure</th></tr>\n",
       "\t<tr><th scope=col>&lt;fct&gt;</th><th scope=col>&lt;dbl&gt;</th><th scope=col>&lt;dbl&gt;</th><th scope=col>&lt;dbl&gt;</th></tr>\n",
       "</thead>\n",
       "<tbody>\n",
       "\t<tr><td>No </td><td>108.5387</td><td>30.22133</td><td>67.60000</td></tr>\n",
       "\t<tr><td>Yes</td><td>140.7761</td><td>35.70299</td><td>71.22388</td></tr>\n",
       "</tbody>\n",
       "</table>\n"
      ],
      "text/latex": [
       "A tibble: 2 × 4\n",
       "\\begin{tabular}{llll}\n",
       " diabetes & average\\_glucose & average\\_bmi & average\\_blood\\_pressure\\\\\n",
       " <fct> & <dbl> & <dbl> & <dbl>\\\\\n",
       "\\hline\n",
       "\t No  & 108.5387 & 30.22133 & 67.60000\\\\\n",
       "\t Yes & 140.7761 & 35.70299 & 71.22388\\\\\n",
       "\\end{tabular}\n"
      ],
      "text/markdown": [
       "\n",
       "A tibble: 2 × 4\n",
       "\n",
       "| diabetes &lt;fct&gt; | average_glucose &lt;dbl&gt; | average_bmi &lt;dbl&gt; | average_blood_pressure &lt;dbl&gt; |\n",
       "|---|---|---|---|\n",
       "| No  | 108.5387 | 30.22133 | 67.60000 |\n",
       "| Yes | 140.7761 | 35.70299 | 71.22388 |\n",
       "\n"
      ],
      "text/plain": [
       "  diabetes average_glucose average_bmi average_blood_pressure\n",
       "1 No       108.5387        30.22133    67.60000              \n",
       "2 Yes      140.7761        35.70299    71.22388              "
      ]
     },
     "metadata": {},
     "output_type": "display_data"
    }
   ],
   "source": [
    "#Determining the average values for those with and without diabetes\n",
    "average_summary <- diabetes_training |>\n",
    "group_by(diabetes) |>\n",
    "summarize(average_glucose = mean(glucose),\n",
    "      \taverage_bmi = mean(bmi),\n",
    "     \taverage_blood_pressure = mean(blood_pressure))\n",
    "average_summary\n"
   ]
  },
  {
   "cell_type": "code",
   "execution_count": 8,
   "id": "043ae7a2-557d-4857-ad47-da0d8b9b7187",
   "metadata": {},
   "outputs": [
    {
     "data": {
      "text/html": [
       "<table class=\"dataframe\">\n",
       "<caption>A tibble: 16 × 2</caption>\n",
       "<thead>\n",
       "\t<tr><th scope=col>pregnancies</th><th scope=col>n</th></tr>\n",
       "\t<tr><th scope=col>&lt;dbl&gt;</th><th scope=col>&lt;int&gt;</th></tr>\n",
       "</thead>\n",
       "<tbody>\n",
       "\t<tr><td> 0</td><td> 84</td></tr>\n",
       "\t<tr><td> 1</td><td>106</td></tr>\n",
       "\t<tr><td> 2</td><td> 67</td></tr>\n",
       "\t<tr><td> 3</td><td> 53</td></tr>\n",
       "\t<tr><td> 4</td><td> 54</td></tr>\n",
       "\t<tr><td> 5</td><td> 48</td></tr>\n",
       "\t<tr><td> 6</td><td> 38</td></tr>\n",
       "\t<tr><td> 7</td><td> 31</td></tr>\n",
       "\t<tr><td> 8</td><td> 28</td></tr>\n",
       "\t<tr><td> 9</td><td> 24</td></tr>\n",
       "\t<tr><td>10</td><td> 17</td></tr>\n",
       "\t<tr><td>11</td><td>  9</td></tr>\n",
       "\t<tr><td>12</td><td>  7</td></tr>\n",
       "\t<tr><td>13</td><td>  8</td></tr>\n",
       "\t<tr><td>14</td><td>  1</td></tr>\n",
       "\t<tr><td>15</td><td>  1</td></tr>\n",
       "</tbody>\n",
       "</table>\n"
      ],
      "text/latex": [
       "A tibble: 16 × 2\n",
       "\\begin{tabular}{ll}\n",
       " pregnancies & n\\\\\n",
       " <dbl> & <int>\\\\\n",
       "\\hline\n",
       "\t  0 &  84\\\\\n",
       "\t  1 & 106\\\\\n",
       "\t  2 &  67\\\\\n",
       "\t  3 &  53\\\\\n",
       "\t  4 &  54\\\\\n",
       "\t  5 &  48\\\\\n",
       "\t  6 &  38\\\\\n",
       "\t  7 &  31\\\\\n",
       "\t  8 &  28\\\\\n",
       "\t  9 &  24\\\\\n",
       "\t 10 &  17\\\\\n",
       "\t 11 &   9\\\\\n",
       "\t 12 &   7\\\\\n",
       "\t 13 &   8\\\\\n",
       "\t 14 &   1\\\\\n",
       "\t 15 &   1\\\\\n",
       "\\end{tabular}\n"
      ],
      "text/markdown": [
       "\n",
       "A tibble: 16 × 2\n",
       "\n",
       "| pregnancies &lt;dbl&gt; | n &lt;int&gt; |\n",
       "|---|---|\n",
       "|  0 |  84 |\n",
       "|  1 | 106 |\n",
       "|  2 |  67 |\n",
       "|  3 |  53 |\n",
       "|  4 |  54 |\n",
       "|  5 |  48 |\n",
       "|  6 |  38 |\n",
       "|  7 |  31 |\n",
       "|  8 |  28 |\n",
       "|  9 |  24 |\n",
       "| 10 |  17 |\n",
       "| 11 |   9 |\n",
       "| 12 |   7 |\n",
       "| 13 |   8 |\n",
       "| 14 |   1 |\n",
       "| 15 |   1 |\n",
       "\n"
      ],
      "text/plain": [
       "   pregnancies n  \n",
       "1   0           84\n",
       "2   1          106\n",
       "3   2           67\n",
       "4   3           53\n",
       "5   4           54\n",
       "6   5           48\n",
       "7   6           38\n",
       "8   7           31\n",
       "9   8           28\n",
       "10  9           24\n",
       "11 10           17\n",
       "12 11            9\n",
       "13 12            7\n",
       "14 13            8\n",
       "15 14            1\n",
       "16 15            1"
      ]
     },
     "metadata": {},
     "output_type": "display_data"
    }
   ],
   "source": [
    "#determining the number of data for each pregnancy stage\n",
    "count_preg <- diabetes_training |>\n",
    "count(pregnancies)\n",
    "count_preg\n"
   ]
  },
  {
   "cell_type": "code",
   "execution_count": 10,
   "id": "7e72bef7-6e91-4d42-9db7-8bfb420830f8",
   "metadata": {},
   "outputs": [
    {
     "data": {
      "text/html": [
       "<table class=\"dataframe\">\n",
       "<caption>A tibble: 16 × 4</caption>\n",
       "<thead>\n",
       "\t<tr><th scope=col>pregnancies</th><th scope=col>average_glucose</th><th scope=col>average_bmi</th><th scope=col>average_blood_pressure</th></tr>\n",
       "\t<tr><th scope=col>&lt;fct&gt;</th><th scope=col>&lt;dbl&gt;</th><th scope=col>&lt;dbl&gt;</th><th scope=col>&lt;dbl&gt;</th></tr>\n",
       "</thead>\n",
       "<tbody>\n",
       "\t<tr><td>0 </td><td>120.5119</td><td>34.01071</td><td>65.82143</td></tr>\n",
       "\t<tr><td>1 </td><td>112.2642</td><td>31.72264</td><td>68.05660</td></tr>\n",
       "\t<tr><td>2 </td><td>111.3881</td><td>31.04627</td><td>61.98507</td></tr>\n",
       "\t<tr><td>3 </td><td>119.5660</td><td>29.98113</td><td>66.83019</td></tr>\n",
       "\t<tr><td>4 </td><td>126.0370</td><td>32.19444</td><td>69.11111</td></tr>\n",
       "\t<tr><td>5 </td><td>119.9583</td><td>33.16875</td><td>76.54167</td></tr>\n",
       "\t<tr><td>6 </td><td>119.2632</td><td>30.06053</td><td>68.50000</td></tr>\n",
       "\t<tr><td>7 </td><td>134.8387</td><td>33.34516</td><td>67.83871</td></tr>\n",
       "\t<tr><td>8 </td><td>129.2500</td><td>32.47857</td><td>75.07143</td></tr>\n",
       "\t<tr><td>9 </td><td>129.0417</td><td>31.64583</td><td>78.08333</td></tr>\n",
       "\t<tr><td>10</td><td>113.5294</td><td>31.18235</td><td>73.11765</td></tr>\n",
       "\t<tr><td>11</td><td>127.1111</td><td>38.10000</td><td>70.00000</td></tr>\n",
       "\t<tr><td>12</td><td>121.4286</td><td>32.30000</td><td>77.28571</td></tr>\n",
       "\t<tr><td>13</td><td>127.8750</td><td>34.05000</td><td>72.25000</td></tr>\n",
       "\t<tr><td>14</td><td>100.0000</td><td>36.60000</td><td>78.00000</td></tr>\n",
       "\t<tr><td>15</td><td>136.0000</td><td>37.10000</td><td>70.00000</td></tr>\n",
       "</tbody>\n",
       "</table>\n"
      ],
      "text/latex": [
       "A tibble: 16 × 4\n",
       "\\begin{tabular}{llll}\n",
       " pregnancies & average\\_glucose & average\\_bmi & average\\_blood\\_pressure\\\\\n",
       " <fct> & <dbl> & <dbl> & <dbl>\\\\\n",
       "\\hline\n",
       "\t 0  & 120.5119 & 34.01071 & 65.82143\\\\\n",
       "\t 1  & 112.2642 & 31.72264 & 68.05660\\\\\n",
       "\t 2  & 111.3881 & 31.04627 & 61.98507\\\\\n",
       "\t 3  & 119.5660 & 29.98113 & 66.83019\\\\\n",
       "\t 4  & 126.0370 & 32.19444 & 69.11111\\\\\n",
       "\t 5  & 119.9583 & 33.16875 & 76.54167\\\\\n",
       "\t 6  & 119.2632 & 30.06053 & 68.50000\\\\\n",
       "\t 7  & 134.8387 & 33.34516 & 67.83871\\\\\n",
       "\t 8  & 129.2500 & 32.47857 & 75.07143\\\\\n",
       "\t 9  & 129.0417 & 31.64583 & 78.08333\\\\\n",
       "\t 10 & 113.5294 & 31.18235 & 73.11765\\\\\n",
       "\t 11 & 127.1111 & 38.10000 & 70.00000\\\\\n",
       "\t 12 & 121.4286 & 32.30000 & 77.28571\\\\\n",
       "\t 13 & 127.8750 & 34.05000 & 72.25000\\\\\n",
       "\t 14 & 100.0000 & 36.60000 & 78.00000\\\\\n",
       "\t 15 & 136.0000 & 37.10000 & 70.00000\\\\\n",
       "\\end{tabular}\n"
      ],
      "text/markdown": [
       "\n",
       "A tibble: 16 × 4\n",
       "\n",
       "| pregnancies &lt;fct&gt; | average_glucose &lt;dbl&gt; | average_bmi &lt;dbl&gt; | average_blood_pressure &lt;dbl&gt; |\n",
       "|---|---|---|---|\n",
       "| 0  | 120.5119 | 34.01071 | 65.82143 |\n",
       "| 1  | 112.2642 | 31.72264 | 68.05660 |\n",
       "| 2  | 111.3881 | 31.04627 | 61.98507 |\n",
       "| 3  | 119.5660 | 29.98113 | 66.83019 |\n",
       "| 4  | 126.0370 | 32.19444 | 69.11111 |\n",
       "| 5  | 119.9583 | 33.16875 | 76.54167 |\n",
       "| 6  | 119.2632 | 30.06053 | 68.50000 |\n",
       "| 7  | 134.8387 | 33.34516 | 67.83871 |\n",
       "| 8  | 129.2500 | 32.47857 | 75.07143 |\n",
       "| 9  | 129.0417 | 31.64583 | 78.08333 |\n",
       "| 10 | 113.5294 | 31.18235 | 73.11765 |\n",
       "| 11 | 127.1111 | 38.10000 | 70.00000 |\n",
       "| 12 | 121.4286 | 32.30000 | 77.28571 |\n",
       "| 13 | 127.8750 | 34.05000 | 72.25000 |\n",
       "| 14 | 100.0000 | 36.60000 | 78.00000 |\n",
       "| 15 | 136.0000 | 37.10000 | 70.00000 |\n",
       "\n"
      ],
      "text/plain": [
       "   pregnancies average_glucose average_bmi average_blood_pressure\n",
       "1  0           120.5119        34.01071    65.82143              \n",
       "2  1           112.2642        31.72264    68.05660              \n",
       "3  2           111.3881        31.04627    61.98507              \n",
       "4  3           119.5660        29.98113    66.83019              \n",
       "5  4           126.0370        32.19444    69.11111              \n",
       "6  5           119.9583        33.16875    76.54167              \n",
       "7  6           119.2632        30.06053    68.50000              \n",
       "8  7           134.8387        33.34516    67.83871              \n",
       "9  8           129.2500        32.47857    75.07143              \n",
       "10 9           129.0417        31.64583    78.08333              \n",
       "11 10          113.5294        31.18235    73.11765              \n",
       "12 11          127.1111        38.10000    70.00000              \n",
       "13 12          121.4286        32.30000    77.28571              \n",
       "14 13          127.8750        34.05000    72.25000              \n",
       "15 14          100.0000        36.60000    78.00000              \n",
       "16 15          136.0000        37.10000    70.00000              "
      ]
     },
     "metadata": {},
     "output_type": "display_data"
    }
   ],
   "source": [
    "#Average glucose, blood pressure, bmi levels for number of pregnancies considered as a factor\n",
    "diabetes_training_pregnant_stage <- diabetes_training |>\n",
    "mutate(pregnancies = as_factor(pregnancies)) |>\n",
    "group_by(pregnancies) |>\n",
    "summarize(\n",
    "\taverage_glucose = mean(glucose),\n",
    "\taverage_bmi = mean(bmi),\n",
    "\taverage_blood_pressure = mean(blood_pressure))\n",
    "diabetes_training_pregnant_stage\n"
   ]
  },
  {
   "cell_type": "markdown",
   "id": "207501d0-9e13-43ac-ba41-0093f13fa617",
   "metadata": {},
   "source": [
    "### Expected Outcomes and Significance\n",
    "\n",
    "What we would like to find:\n",
    "- How does blood pressure impact the likelihood of diabetes?\n",
    "- What is the relationship of BMI and diabetic standing?\n",
    "- What is the relationship between Glucose and Age with an emphasis on their Diabetic Standing?\n"
   ]
  },
  {
   "cell_type": "markdown",
   "id": "e3d441f0-28ce-458b-bcb2-6aa410f06500",
   "metadata": {},
   "source": [
    "Such findings will be able to create a much bigger impact in the future, such as …\n",
    "\n",
    "\n",
    "1. Finding which variables in the data set have the most significant impact on predicting diabetes in this dataset. (The problem with this is that we are going to be standardizing our data, so I am not sure if we will be able to determine the most impactful variable)\n",
    "2. Determine what aspects/variables related to diabetes medical workers need to focus on to prevent/decrease the risk of future patients being diagnosed with either Type 1 or 2 diabetes\n",
    "3. Determining the critical age range where individuals are more susceptible to developing diabetes based on glucose levels\n",
    "\n",
    "Other potential findings:\n",
    "1. To predict if an individual is susceptible to either Type 1 diabetes or Type 2 diabetes based on current data.\n",
    "2. Determine if the increase in pregnancies leads to a higher risk of either Type 1 or 2 diabetes.\n",
    "3. If individuals with high blood pressure are of higher risk of being diagnosed with either Type 1 or 2 diabetes\n",
    "4. Visualize if BMI levels influences the diagnosis of Type 1 or 2 diabetes\n"
   ]
  },
  {
   "cell_type": "code",
   "execution_count": null,
   "id": "cf0eb84d-9537-422a-bab1-1b2aff03cf3d",
   "metadata": {},
   "outputs": [],
   "source": []
  }
 ],
 "metadata": {
  "kernelspec": {
   "display_name": "R",
   "language": "R",
   "name": "ir"
  },
  "language_info": {
   "codemirror_mode": "r",
   "file_extension": ".r",
   "mimetype": "text/x-r-source",
   "name": "R",
   "pygments_lexer": "r",
   "version": "4.3.1"
  }
 },
 "nbformat": 4,
 "nbformat_minor": 5
}
