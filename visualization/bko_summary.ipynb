{
 "cells": [
  {
   "cell_type": "code",
   "execution_count": null,
   "id": "fde8da08-1d37-466b-bad1-e7b7d50000a8",
   "metadata": {},
   "outputs": [],
   "source": [
    "Summary Tables"
   ]
  },
  {
   "cell_type": "code",
   "execution_count": 1,
   "id": "9a503a91-2f90-4518-8fee-a3587429f7a3",
   "metadata": {},
   "outputs": [
    {
     "name": "stderr",
     "output_type": "stream",
     "text": [
      "── \u001b[1mAttaching core tidyverse packages\u001b[22m ──────────────────────── tidyverse 2.0.0 ──\n",
      "\u001b[32m✔\u001b[39m \u001b[34mdplyr    \u001b[39m 1.1.3     \u001b[32m✔\u001b[39m \u001b[34mreadr    \u001b[39m 2.1.4\n",
      "\u001b[32m✔\u001b[39m \u001b[34mforcats  \u001b[39m 1.0.0     \u001b[32m✔\u001b[39m \u001b[34mstringr  \u001b[39m 1.5.0\n",
      "\u001b[32m✔\u001b[39m \u001b[34mggplot2  \u001b[39m 3.4.4     \u001b[32m✔\u001b[39m \u001b[34mtibble   \u001b[39m 3.2.1\n",
      "\u001b[32m✔\u001b[39m \u001b[34mlubridate\u001b[39m 1.9.3     \u001b[32m✔\u001b[39m \u001b[34mtidyr    \u001b[39m 1.3.0\n",
      "\u001b[32m✔\u001b[39m \u001b[34mpurrr    \u001b[39m 1.0.2     \n",
      "── \u001b[1mConflicts\u001b[22m ────────────────────────────────────────── tidyverse_conflicts() ──\n",
      "\u001b[31m✖\u001b[39m \u001b[34mdplyr\u001b[39m::\u001b[32mfilter()\u001b[39m masks \u001b[34mstats\u001b[39m::filter()\n",
      "\u001b[31m✖\u001b[39m \u001b[34mdplyr\u001b[39m::\u001b[32mlag()\u001b[39m    masks \u001b[34mstats\u001b[39m::lag()\n",
      "\u001b[36mℹ\u001b[39m Use the conflicted package (\u001b[3m\u001b[34m<http://conflicted.r-lib.org/>\u001b[39m\u001b[23m) to force all conflicts to become errors\n",
      "\n",
      "Attaching package: ‘janitor’\n",
      "\n",
      "\n",
      "The following objects are masked from ‘package:stats’:\n",
      "\n",
      "    chisq.test, fisher.test\n",
      "\n",
      "\n",
      "── \u001b[1mAttaching packages\u001b[22m ────────────────────────────────────── tidymodels 1.1.1 ──\n",
      "\n",
      "\u001b[32m✔\u001b[39m \u001b[34mbroom       \u001b[39m 1.0.5     \u001b[32m✔\u001b[39m \u001b[34mrsample     \u001b[39m 1.2.0\n",
      "\u001b[32m✔\u001b[39m \u001b[34mdials       \u001b[39m 1.2.0     \u001b[32m✔\u001b[39m \u001b[34mtune        \u001b[39m 1.1.2\n",
      "\u001b[32m✔\u001b[39m \u001b[34minfer       \u001b[39m 1.0.5     \u001b[32m✔\u001b[39m \u001b[34mworkflows   \u001b[39m 1.1.3\n",
      "\u001b[32m✔\u001b[39m \u001b[34mmodeldata   \u001b[39m 1.2.0     \u001b[32m✔\u001b[39m \u001b[34mworkflowsets\u001b[39m 1.0.1\n",
      "\u001b[32m✔\u001b[39m \u001b[34mparsnip     \u001b[39m 1.1.1     \u001b[32m✔\u001b[39m \u001b[34myardstick   \u001b[39m 1.2.0\n",
      "\u001b[32m✔\u001b[39m \u001b[34mrecipes     \u001b[39m 1.0.8     \n",
      "\n",
      "── \u001b[1mConflicts\u001b[22m ───────────────────────────────────────── tidymodels_conflicts() ──\n",
      "\u001b[31m✖\u001b[39m \u001b[34mscales\u001b[39m::\u001b[32mdiscard()\u001b[39m masks \u001b[34mpurrr\u001b[39m::discard()\n",
      "\u001b[31m✖\u001b[39m \u001b[34mdplyr\u001b[39m::\u001b[32mfilter()\u001b[39m   masks \u001b[34mstats\u001b[39m::filter()\n",
      "\u001b[31m✖\u001b[39m \u001b[34mrecipes\u001b[39m::\u001b[32mfixed()\u001b[39m  masks \u001b[34mstringr\u001b[39m::fixed()\n",
      "\u001b[31m✖\u001b[39m \u001b[34mdplyr\u001b[39m::\u001b[32mlag()\u001b[39m      masks \u001b[34mstats\u001b[39m::lag()\n",
      "\u001b[31m✖\u001b[39m \u001b[34myardstick\u001b[39m::\u001b[32mspec()\u001b[39m masks \u001b[34mreadr\u001b[39m::spec()\n",
      "\u001b[31m✖\u001b[39m \u001b[34mrecipes\u001b[39m::\u001b[32mstep()\u001b[39m   masks \u001b[34mstats\u001b[39m::step()\n",
      "\u001b[34m•\u001b[39m Use suppressPackageStartupMessages() to eliminate package startup messages\n",
      "\n"
     ]
    }
   ],
   "source": [
    "# importing libraries\n",
    "library(tidyverse)\n",
    "library(repr)\n",
    "library(janitor)\n",
    "library(ggplot2)\n",
    "library(tidymodels)\n",
    "library(RColorBrewer)"
   ]
  },
  {
   "cell_type": "code",
   "execution_count": 2,
   "id": "7fbb857f-c09b-4bce-93db-056b8a9e628e",
   "metadata": {},
   "outputs": [
    {
     "name": "stderr",
     "output_type": "stream",
     "text": [
      "\u001b[1mRows: \u001b[22m\u001b[34m768\u001b[39m \u001b[1mColumns: \u001b[22m\u001b[34m9\u001b[39m\n",
      "\u001b[36m──\u001b[39m \u001b[1mColumn specification\u001b[22m \u001b[36m────────────────────────────────────────────────────────\u001b[39m\n",
      "\u001b[1mDelimiter:\u001b[22m \",\"\n",
      "\u001b[32mdbl\u001b[39m (9): Pregnancies, Glucose, BloodPressure, SkinThickness, Insulin, BMI, D...\n",
      "\n",
      "\u001b[36mℹ\u001b[39m Use `spec()` to retrieve the full column specification for this data.\n",
      "\u001b[36mℹ\u001b[39m Specify the column types or set `show_col_types = FALSE` to quiet this message.\n"
     ]
    },
    {
     "data": {
      "text/html": [
       "<table class=\"dataframe\">\n",
       "<caption>A tibble: 6 × 9</caption>\n",
       "<thead>\n",
       "\t<tr><th scope=col>pregnancies</th><th scope=col>glucose</th><th scope=col>blood_pressure</th><th scope=col>skin_thickness</th><th scope=col>insulin</th><th scope=col>bmi</th><th scope=col>diabetes_pedigree_function</th><th scope=col>age</th><th scope=col>diabetes</th></tr>\n",
       "\t<tr><th scope=col>&lt;dbl&gt;</th><th scope=col>&lt;dbl&gt;</th><th scope=col>&lt;dbl&gt;</th><th scope=col>&lt;dbl&gt;</th><th scope=col>&lt;dbl&gt;</th><th scope=col>&lt;dbl&gt;</th><th scope=col>&lt;dbl&gt;</th><th scope=col>&lt;dbl&gt;</th><th scope=col>&lt;fct&gt;</th></tr>\n",
       "</thead>\n",
       "<tbody>\n",
       "\t<tr><td>6</td><td>148</td><td>72</td><td>35</td><td>  0</td><td>33.6</td><td>0.627</td><td>50</td><td>Yes</td></tr>\n",
       "\t<tr><td>1</td><td> 85</td><td>66</td><td>29</td><td>  0</td><td>26.6</td><td>0.351</td><td>31</td><td>No </td></tr>\n",
       "\t<tr><td>8</td><td>183</td><td>64</td><td> 0</td><td>  0</td><td>23.3</td><td>0.672</td><td>32</td><td>Yes</td></tr>\n",
       "\t<tr><td>1</td><td> 89</td><td>66</td><td>23</td><td> 94</td><td>28.1</td><td>0.167</td><td>21</td><td>No </td></tr>\n",
       "\t<tr><td>0</td><td>137</td><td>40</td><td>35</td><td>168</td><td>43.1</td><td>2.288</td><td>33</td><td>Yes</td></tr>\n",
       "\t<tr><td>5</td><td>116</td><td>74</td><td> 0</td><td>  0</td><td>25.6</td><td>0.201</td><td>30</td><td>No </td></tr>\n",
       "</tbody>\n",
       "</table>\n"
      ],
      "text/latex": [
       "A tibble: 6 × 9\n",
       "\\begin{tabular}{lllllllll}\n",
       " pregnancies & glucose & blood\\_pressure & skin\\_thickness & insulin & bmi & diabetes\\_pedigree\\_function & age & diabetes\\\\\n",
       " <dbl> & <dbl> & <dbl> & <dbl> & <dbl> & <dbl> & <dbl> & <dbl> & <fct>\\\\\n",
       "\\hline\n",
       "\t 6 & 148 & 72 & 35 &   0 & 33.6 & 0.627 & 50 & Yes\\\\\n",
       "\t 1 &  85 & 66 & 29 &   0 & 26.6 & 0.351 & 31 & No \\\\\n",
       "\t 8 & 183 & 64 &  0 &   0 & 23.3 & 0.672 & 32 & Yes\\\\\n",
       "\t 1 &  89 & 66 & 23 &  94 & 28.1 & 0.167 & 21 & No \\\\\n",
       "\t 0 & 137 & 40 & 35 & 168 & 43.1 & 2.288 & 33 & Yes\\\\\n",
       "\t 5 & 116 & 74 &  0 &   0 & 25.6 & 0.201 & 30 & No \\\\\n",
       "\\end{tabular}\n"
      ],
      "text/markdown": [
       "\n",
       "A tibble: 6 × 9\n",
       "\n",
       "| pregnancies &lt;dbl&gt; | glucose &lt;dbl&gt; | blood_pressure &lt;dbl&gt; | skin_thickness &lt;dbl&gt; | insulin &lt;dbl&gt; | bmi &lt;dbl&gt; | diabetes_pedigree_function &lt;dbl&gt; | age &lt;dbl&gt; | diabetes &lt;fct&gt; |\n",
       "|---|---|---|---|---|---|---|---|---|\n",
       "| 6 | 148 | 72 | 35 |   0 | 33.6 | 0.627 | 50 | Yes |\n",
       "| 1 |  85 | 66 | 29 |   0 | 26.6 | 0.351 | 31 | No  |\n",
       "| 8 | 183 | 64 |  0 |   0 | 23.3 | 0.672 | 32 | Yes |\n",
       "| 1 |  89 | 66 | 23 |  94 | 28.1 | 0.167 | 21 | No  |\n",
       "| 0 | 137 | 40 | 35 | 168 | 43.1 | 2.288 | 33 | Yes |\n",
       "| 5 | 116 | 74 |  0 |   0 | 25.6 | 0.201 | 30 | No  |\n",
       "\n"
      ],
      "text/plain": [
       "  pregnancies glucose blood_pressure skin_thickness insulin bmi \n",
       "1 6           148     72             35               0     33.6\n",
       "2 1            85     66             29               0     26.6\n",
       "3 8           183     64              0               0     23.3\n",
       "4 1            89     66             23              94     28.1\n",
       "5 0           137     40             35             168     43.1\n",
       "6 5           116     74              0               0     25.6\n",
       "  diabetes_pedigree_function age diabetes\n",
       "1 0.627                      50  Yes     \n",
       "2 0.351                      31  No      \n",
       "3 0.672                      32  Yes     \n",
       "4 0.167                      21  No      \n",
       "5 2.288                      33  Yes     \n",
       "6 0.201                      30  No      "
      ]
     },
     "metadata": {},
     "output_type": "display_data"
    }
   ],
   "source": [
    "# Cleaning names and specifying categorical variable\n",
    "diabetes <- read_csv(\"../data/diabetes.csv\") |>\n",
    "            clean_names() |>\n",
    "            mutate(outcome = as_factor(outcome)) |>\n",
    "            mutate(diabetes = fct_recode(outcome, \"Yes\" = \"1\", \"No\" = \"0\")) |>\n",
    "            select(-outcome)\n",
    "\n",
    "# Displaying the data\n",
    "head(diabetes)"
   ]
  },
  {
   "cell_type": "code",
   "execution_count": 3,
   "id": "eb900663-a965-4cf8-ad3d-906930da2299",
   "metadata": {
    "scrolled": true
   },
   "outputs": [
    {
     "data": {
      "text/html": [
       "<table class=\"dataframe\">\n",
       "<caption>A tibble: 6 × 9</caption>\n",
       "<thead>\n",
       "\t<tr><th scope=col>pregnancies</th><th scope=col>glucose</th><th scope=col>blood_pressure</th><th scope=col>skin_thickness</th><th scope=col>insulin</th><th scope=col>bmi</th><th scope=col>diabetes_pedigree_function</th><th scope=col>age</th><th scope=col>diabetes</th></tr>\n",
       "\t<tr><th scope=col>&lt;dbl&gt;</th><th scope=col>&lt;dbl&gt;</th><th scope=col>&lt;dbl&gt;</th><th scope=col>&lt;dbl&gt;</th><th scope=col>&lt;dbl&gt;</th><th scope=col>&lt;dbl&gt;</th><th scope=col>&lt;dbl&gt;</th><th scope=col>&lt;dbl&gt;</th><th scope=col>&lt;fct&gt;</th></tr>\n",
       "</thead>\n",
       "<tbody>\n",
       "\t<tr><td> 1</td><td> 85</td><td>66</td><td>29</td><td> 0</td><td>26.6</td><td>0.351</td><td>31</td><td>No</td></tr>\n",
       "\t<tr><td> 1</td><td> 89</td><td>66</td><td>23</td><td>94</td><td>28.1</td><td>0.167</td><td>21</td><td>No</td></tr>\n",
       "\t<tr><td>10</td><td>115</td><td> 0</td><td> 0</td><td> 0</td><td>35.3</td><td>0.134</td><td>29</td><td>No</td></tr>\n",
       "\t<tr><td> 4</td><td>110</td><td>92</td><td> 0</td><td> 0</td><td>37.6</td><td>0.191</td><td>30</td><td>No</td></tr>\n",
       "\t<tr><td>10</td><td>139</td><td>80</td><td> 0</td><td> 0</td><td>27.1</td><td>1.441</td><td>57</td><td>No</td></tr>\n",
       "\t<tr><td> 1</td><td>103</td><td>30</td><td>38</td><td>83</td><td>43.3</td><td>0.183</td><td>33</td><td>No</td></tr>\n",
       "</tbody>\n",
       "</table>\n"
      ],
      "text/latex": [
       "A tibble: 6 × 9\n",
       "\\begin{tabular}{lllllllll}\n",
       " pregnancies & glucose & blood\\_pressure & skin\\_thickness & insulin & bmi & diabetes\\_pedigree\\_function & age & diabetes\\\\\n",
       " <dbl> & <dbl> & <dbl> & <dbl> & <dbl> & <dbl> & <dbl> & <dbl> & <fct>\\\\\n",
       "\\hline\n",
       "\t  1 &  85 & 66 & 29 &  0 & 26.6 & 0.351 & 31 & No\\\\\n",
       "\t  1 &  89 & 66 & 23 & 94 & 28.1 & 0.167 & 21 & No\\\\\n",
       "\t 10 & 115 &  0 &  0 &  0 & 35.3 & 0.134 & 29 & No\\\\\n",
       "\t  4 & 110 & 92 &  0 &  0 & 37.6 & 0.191 & 30 & No\\\\\n",
       "\t 10 & 139 & 80 &  0 &  0 & 27.1 & 1.441 & 57 & No\\\\\n",
       "\t  1 & 103 & 30 & 38 & 83 & 43.3 & 0.183 & 33 & No\\\\\n",
       "\\end{tabular}\n"
      ],
      "text/markdown": [
       "\n",
       "A tibble: 6 × 9\n",
       "\n",
       "| pregnancies &lt;dbl&gt; | glucose &lt;dbl&gt; | blood_pressure &lt;dbl&gt; | skin_thickness &lt;dbl&gt; | insulin &lt;dbl&gt; | bmi &lt;dbl&gt; | diabetes_pedigree_function &lt;dbl&gt; | age &lt;dbl&gt; | diabetes &lt;fct&gt; |\n",
       "|---|---|---|---|---|---|---|---|---|\n",
       "|  1 |  85 | 66 | 29 |  0 | 26.6 | 0.351 | 31 | No |\n",
       "|  1 |  89 | 66 | 23 | 94 | 28.1 | 0.167 | 21 | No |\n",
       "| 10 | 115 |  0 |  0 |  0 | 35.3 | 0.134 | 29 | No |\n",
       "|  4 | 110 | 92 |  0 |  0 | 37.6 | 0.191 | 30 | No |\n",
       "| 10 | 139 | 80 |  0 |  0 | 27.1 | 1.441 | 57 | No |\n",
       "|  1 | 103 | 30 | 38 | 83 | 43.3 | 0.183 | 33 | No |\n",
       "\n"
      ],
      "text/plain": [
       "  pregnancies glucose blood_pressure skin_thickness insulin bmi \n",
       "1  1           85     66             29              0      26.6\n",
       "2  1           89     66             23             94      28.1\n",
       "3 10          115      0              0              0      35.3\n",
       "4  4          110     92              0              0      37.6\n",
       "5 10          139     80              0              0      27.1\n",
       "6  1          103     30             38             83      43.3\n",
       "  diabetes_pedigree_function age diabetes\n",
       "1 0.351                      31  No      \n",
       "2 0.167                      21  No      \n",
       "3 0.134                      29  No      \n",
       "4 0.191                      30  No      \n",
       "5 1.441                      57  No      \n",
       "6 0.183                      33  No      "
      ]
     },
     "metadata": {},
     "output_type": "display_data"
    }
   ],
   "source": [
    "# splitting the diatabes data\n",
    "diabetes_split <- initial_split(diabetes, prop = 0.75, strata = diabetes)\n",
    "\n",
    "# training data\n",
    "diabetes_training <- training(diabetes_split)\n",
    "\n",
    "# testing data\n",
    "diabetes_testing <- testing(diabetes_split)\n",
    "\n",
    "# the data to be used\n",
    "head(diabetes_training)"
   ]
  },
  {
   "cell_type": "code",
   "execution_count": 16,
   "id": "c392fa88-1144-43dc-9c38-d86c54ed4da3",
   "metadata": {},
   "outputs": [
    {
     "data": {
      "text/html": [
       "<table class=\"dataframe\">\n",
       "<caption>A tibble: 6 × 9</caption>\n",
       "<thead>\n",
       "\t<tr><th scope=col>pregnancies</th><th scope=col>glucose</th><th scope=col>blood_pressure</th><th scope=col>skin_thickness</th><th scope=col>insulin</th><th scope=col>bmi</th><th scope=col>diabetes_pedigree_function</th><th scope=col>age</th><th scope=col>diabetes</th></tr>\n",
       "\t<tr><th scope=col>&lt;dbl&gt;</th><th scope=col>&lt;dbl&gt;</th><th scope=col>&lt;dbl&gt;</th><th scope=col>&lt;dbl&gt;</th><th scope=col>&lt;dbl&gt;</th><th scope=col>&lt;dbl&gt;</th><th scope=col>&lt;dbl&gt;</th><th scope=col>&lt;dbl&gt;</th><th scope=col>&lt;fct&gt;</th></tr>\n",
       "</thead>\n",
       "<tbody>\n",
       "\t<tr><td> 1</td><td> 85</td><td>66</td><td>29</td><td> 0</td><td>26.6</td><td>0.351</td><td>31</td><td>No</td></tr>\n",
       "\t<tr><td> 1</td><td> 89</td><td>66</td><td>23</td><td>94</td><td>28.1</td><td>0.167</td><td>21</td><td>No</td></tr>\n",
       "\t<tr><td>10</td><td>115</td><td> 0</td><td> 0</td><td> 0</td><td>35.3</td><td>0.134</td><td>29</td><td>No</td></tr>\n",
       "\t<tr><td> 4</td><td>110</td><td>92</td><td> 0</td><td> 0</td><td>37.6</td><td>0.191</td><td>30</td><td>No</td></tr>\n",
       "\t<tr><td>10</td><td>139</td><td>80</td><td> 0</td><td> 0</td><td>27.1</td><td>1.441</td><td>57</td><td>No</td></tr>\n",
       "\t<tr><td> 1</td><td>103</td><td>30</td><td>38</td><td>83</td><td>43.3</td><td>0.183</td><td>33</td><td>No</td></tr>\n",
       "</tbody>\n",
       "</table>\n"
      ],
      "text/latex": [
       "A tibble: 6 × 9\n",
       "\\begin{tabular}{lllllllll}\n",
       " pregnancies & glucose & blood\\_pressure & skin\\_thickness & insulin & bmi & diabetes\\_pedigree\\_function & age & diabetes\\\\\n",
       " <dbl> & <dbl> & <dbl> & <dbl> & <dbl> & <dbl> & <dbl> & <dbl> & <fct>\\\\\n",
       "\\hline\n",
       "\t  1 &  85 & 66 & 29 &  0 & 26.6 & 0.351 & 31 & No\\\\\n",
       "\t  1 &  89 & 66 & 23 & 94 & 28.1 & 0.167 & 21 & No\\\\\n",
       "\t 10 & 115 &  0 &  0 &  0 & 35.3 & 0.134 & 29 & No\\\\\n",
       "\t  4 & 110 & 92 &  0 &  0 & 37.6 & 0.191 & 30 & No\\\\\n",
       "\t 10 & 139 & 80 &  0 &  0 & 27.1 & 1.441 & 57 & No\\\\\n",
       "\t  1 & 103 & 30 & 38 & 83 & 43.3 & 0.183 & 33 & No\\\\\n",
       "\\end{tabular}\n"
      ],
      "text/markdown": [
       "\n",
       "A tibble: 6 × 9\n",
       "\n",
       "| pregnancies &lt;dbl&gt; | glucose &lt;dbl&gt; | blood_pressure &lt;dbl&gt; | skin_thickness &lt;dbl&gt; | insulin &lt;dbl&gt; | bmi &lt;dbl&gt; | diabetes_pedigree_function &lt;dbl&gt; | age &lt;dbl&gt; | diabetes &lt;fct&gt; |\n",
       "|---|---|---|---|---|---|---|---|---|\n",
       "|  1 |  85 | 66 | 29 |  0 | 26.6 | 0.351 | 31 | No |\n",
       "|  1 |  89 | 66 | 23 | 94 | 28.1 | 0.167 | 21 | No |\n",
       "| 10 | 115 |  0 |  0 |  0 | 35.3 | 0.134 | 29 | No |\n",
       "|  4 | 110 | 92 |  0 |  0 | 37.6 | 0.191 | 30 | No |\n",
       "| 10 | 139 | 80 |  0 |  0 | 27.1 | 1.441 | 57 | No |\n",
       "|  1 | 103 | 30 | 38 | 83 | 43.3 | 0.183 | 33 | No |\n",
       "\n"
      ],
      "text/plain": [
       "  pregnancies glucose blood_pressure skin_thickness insulin bmi \n",
       "1  1           85     66             29              0      26.6\n",
       "2  1           89     66             23             94      28.1\n",
       "3 10          115      0              0              0      35.3\n",
       "4  4          110     92              0              0      37.6\n",
       "5 10          139     80              0              0      27.1\n",
       "6  1          103     30             38             83      43.3\n",
       "  diabetes_pedigree_function age diabetes\n",
       "1 0.351                      31  No      \n",
       "2 0.167                      21  No      \n",
       "3 0.134                      29  No      \n",
       "4 0.191                      30  No      \n",
       "5 1.441                      57  No      \n",
       "6 0.183                      33  No      "
      ]
     },
     "metadata": {},
     "output_type": "display_data"
    },
    {
     "data": {
      "text/html": [
       "<table class=\"dataframe\">\n",
       "<caption>A tibble: 2 × 4</caption>\n",
       "<thead>\n",
       "\t<tr><th scope=col>diabetes</th><th scope=col>average_glucose</th><th scope=col>average_bmi</th><th scope=col>average_blood_pressure</th></tr>\n",
       "\t<tr><th scope=col>&lt;fct&gt;</th><th scope=col>&lt;dbl&gt;</th><th scope=col>&lt;dbl&gt;</th><th scope=col>&lt;dbl&gt;</th></tr>\n",
       "</thead>\n",
       "<tbody>\n",
       "\t<tr><td>No </td><td>108.8853</td><td>30.22213</td><td>68.33600</td></tr>\n",
       "\t<tr><td>Yes</td><td>141.1592</td><td>34.89851</td><td>72.10945</td></tr>\n",
       "</tbody>\n",
       "</table>\n"
      ],
      "text/latex": [
       "A tibble: 2 × 4\n",
       "\\begin{tabular}{llll}\n",
       " diabetes & average\\_glucose & average\\_bmi & average\\_blood\\_pressure\\\\\n",
       " <fct> & <dbl> & <dbl> & <dbl>\\\\\n",
       "\\hline\n",
       "\t No  & 108.8853 & 30.22213 & 68.33600\\\\\n",
       "\t Yes & 141.1592 & 34.89851 & 72.10945\\\\\n",
       "\\end{tabular}\n"
      ],
      "text/markdown": [
       "\n",
       "A tibble: 2 × 4\n",
       "\n",
       "| diabetes &lt;fct&gt; | average_glucose &lt;dbl&gt; | average_bmi &lt;dbl&gt; | average_blood_pressure &lt;dbl&gt; |\n",
       "|---|---|---|---|\n",
       "| No  | 108.8853 | 30.22213 | 68.33600 |\n",
       "| Yes | 141.1592 | 34.89851 | 72.10945 |\n",
       "\n"
      ],
      "text/plain": [
       "  diabetes average_glucose average_bmi average_blood_pressure\n",
       "1 No       108.8853        30.22213    68.33600              \n",
       "2 Yes      141.1592        34.89851    72.10945              "
      ]
     },
     "metadata": {},
     "output_type": "display_data"
    }
   ],
   "source": [
    "#Determining the average values for those with and without diabetes\n",
    "average_summary <- diabetes_training |>\n",
    "group_by(diabetes) |>\n",
    "summarize(average_glucose = mean(glucose), \n",
    "          average_bmi = mean(bmi),\n",
    "         average_blood_pressure = mean(blood_pressure))\n",
    "average_summary"
   ]
  },
  {
   "cell_type": "code",
   "execution_count": 22,
   "id": "b3bd45bb-c03d-4be8-bb18-16709bdbe446",
   "metadata": {},
   "outputs": [
    {
     "data": {
      "text/html": [
       "<table class=\"dataframe\">\n",
       "<caption>A tibble: 16 × 2</caption>\n",
       "<thead>\n",
       "\t<tr><th scope=col>pregnancies</th><th scope=col>n</th></tr>\n",
       "\t<tr><th scope=col>&lt;dbl&gt;</th><th scope=col>&lt;int&gt;</th></tr>\n",
       "</thead>\n",
       "<tbody>\n",
       "\t<tr><td> 0</td><td> 83</td></tr>\n",
       "\t<tr><td> 1</td><td>105</td></tr>\n",
       "\t<tr><td> 2</td><td> 74</td></tr>\n",
       "\t<tr><td> 3</td><td> 53</td></tr>\n",
       "\t<tr><td> 4</td><td> 54</td></tr>\n",
       "\t<tr><td> 5</td><td> 41</td></tr>\n",
       "\t<tr><td> 6</td><td> 44</td></tr>\n",
       "\t<tr><td> 7</td><td> 31</td></tr>\n",
       "\t<tr><td> 8</td><td> 26</td></tr>\n",
       "\t<tr><td> 9</td><td> 22</td></tr>\n",
       "\t<tr><td>10</td><td> 17</td></tr>\n",
       "\t<tr><td>11</td><td> 10</td></tr>\n",
       "\t<tr><td>12</td><td>  7</td></tr>\n",
       "\t<tr><td>13</td><td>  6</td></tr>\n",
       "\t<tr><td>14</td><td>  2</td></tr>\n",
       "\t<tr><td>17</td><td>  1</td></tr>\n",
       "</tbody>\n",
       "</table>\n"
      ],
      "text/latex": [
       "A tibble: 16 × 2\n",
       "\\begin{tabular}{ll}\n",
       " pregnancies & n\\\\\n",
       " <dbl> & <int>\\\\\n",
       "\\hline\n",
       "\t  0 &  83\\\\\n",
       "\t  1 & 105\\\\\n",
       "\t  2 &  74\\\\\n",
       "\t  3 &  53\\\\\n",
       "\t  4 &  54\\\\\n",
       "\t  5 &  41\\\\\n",
       "\t  6 &  44\\\\\n",
       "\t  7 &  31\\\\\n",
       "\t  8 &  26\\\\\n",
       "\t  9 &  22\\\\\n",
       "\t 10 &  17\\\\\n",
       "\t 11 &  10\\\\\n",
       "\t 12 &   7\\\\\n",
       "\t 13 &   6\\\\\n",
       "\t 14 &   2\\\\\n",
       "\t 17 &   1\\\\\n",
       "\\end{tabular}\n"
      ],
      "text/markdown": [
       "\n",
       "A tibble: 16 × 2\n",
       "\n",
       "| pregnancies &lt;dbl&gt; | n &lt;int&gt; |\n",
       "|---|---|\n",
       "|  0 |  83 |\n",
       "|  1 | 105 |\n",
       "|  2 |  74 |\n",
       "|  3 |  53 |\n",
       "|  4 |  54 |\n",
       "|  5 |  41 |\n",
       "|  6 |  44 |\n",
       "|  7 |  31 |\n",
       "|  8 |  26 |\n",
       "|  9 |  22 |\n",
       "| 10 |  17 |\n",
       "| 11 |  10 |\n",
       "| 12 |   7 |\n",
       "| 13 |   6 |\n",
       "| 14 |   2 |\n",
       "| 17 |   1 |\n",
       "\n"
      ],
      "text/plain": [
       "   pregnancies n  \n",
       "1   0           83\n",
       "2   1          105\n",
       "3   2           74\n",
       "4   3           53\n",
       "5   4           54\n",
       "6   5           41\n",
       "7   6           44\n",
       "8   7           31\n",
       "9   8           26\n",
       "10  9           22\n",
       "11 10           17\n",
       "12 11           10\n",
       "13 12            7\n",
       "14 13            6\n",
       "15 14            2\n",
       "16 17            1"
      ]
     },
     "metadata": {},
     "output_type": "display_data"
    }
   ],
   "source": [
    "#determining the number of data for each pregnancy stage\n",
    "count_preg <- diabetes_training |>\n",
    "count(pregnancies)\n",
    "count_preg "
   ]
  },
  {
   "cell_type": "code",
   "execution_count": 17,
   "id": "9c21ccf4-3855-4330-9ad9-49c4aa577574",
   "metadata": {},
   "outputs": [
    {
     "data": {
      "text/html": [
       "<table class=\"dataframe\">\n",
       "<caption>A tibble: 16 × 4</caption>\n",
       "<thead>\n",
       "\t<tr><th scope=col>pregnancies</th><th scope=col>average_glucose</th><th scope=col>average_bmi</th><th scope=col>average_blood_pressure</th></tr>\n",
       "\t<tr><th scope=col>&lt;fct&gt;</th><th scope=col>&lt;dbl&gt;</th><th scope=col>&lt;dbl&gt;</th><th scope=col>&lt;dbl&gt;</th></tr>\n",
       "</thead>\n",
       "<tbody>\n",
       "\t<tr><td>0 </td><td>122.3976</td><td>34.33133</td><td>69.09639</td></tr>\n",
       "\t<tr><td>1 </td><td>113.0286</td><td>31.11238</td><td>67.88571</td></tr>\n",
       "\t<tr><td>2 </td><td>110.7973</td><td>30.75405</td><td>64.74324</td></tr>\n",
       "\t<tr><td>3 </td><td>123.7925</td><td>30.42830</td><td>68.22642</td></tr>\n",
       "\t<tr><td>4 </td><td>123.3333</td><td>31.95556</td><td>69.03704</td></tr>\n",
       "\t<tr><td>5 </td><td>117.0488</td><td>32.67561</td><td>75.78049</td></tr>\n",
       "\t<tr><td>6 </td><td>119.8636</td><td>30.10000</td><td>68.15909</td></tr>\n",
       "\t<tr><td>7 </td><td>139.7097</td><td>33.87097</td><td>77.58065</td></tr>\n",
       "\t<tr><td>8 </td><td>128.7308</td><td>30.33462</td><td>73.65385</td></tr>\n",
       "\t<tr><td>9 </td><td>126.0909</td><td>30.95909</td><td>75.59091</td></tr>\n",
       "\t<tr><td>10</td><td>120.8824</td><td>30.75882</td><td>68.70588</td></tr>\n",
       "\t<tr><td>11</td><td>127.1000</td><td>38.19000</td><td>73.60000</td></tr>\n",
       "\t<tr><td>12</td><td>111.8571</td><td>30.57143</td><td>77.57143</td></tr>\n",
       "\t<tr><td>13</td><td>114.3333</td><td>33.95000</td><td>62.33333</td></tr>\n",
       "\t<tr><td>14</td><td>137.5000</td><td>35.10000</td><td>70.00000</td></tr>\n",
       "\t<tr><td>17</td><td>163.0000</td><td>40.90000</td><td>72.00000</td></tr>\n",
       "</tbody>\n",
       "</table>\n"
      ],
      "text/latex": [
       "A tibble: 16 × 4\n",
       "\\begin{tabular}{llll}\n",
       " pregnancies & average\\_glucose & average\\_bmi & average\\_blood\\_pressure\\\\\n",
       " <fct> & <dbl> & <dbl> & <dbl>\\\\\n",
       "\\hline\n",
       "\t 0  & 122.3976 & 34.33133 & 69.09639\\\\\n",
       "\t 1  & 113.0286 & 31.11238 & 67.88571\\\\\n",
       "\t 2  & 110.7973 & 30.75405 & 64.74324\\\\\n",
       "\t 3  & 123.7925 & 30.42830 & 68.22642\\\\\n",
       "\t 4  & 123.3333 & 31.95556 & 69.03704\\\\\n",
       "\t 5  & 117.0488 & 32.67561 & 75.78049\\\\\n",
       "\t 6  & 119.8636 & 30.10000 & 68.15909\\\\\n",
       "\t 7  & 139.7097 & 33.87097 & 77.58065\\\\\n",
       "\t 8  & 128.7308 & 30.33462 & 73.65385\\\\\n",
       "\t 9  & 126.0909 & 30.95909 & 75.59091\\\\\n",
       "\t 10 & 120.8824 & 30.75882 & 68.70588\\\\\n",
       "\t 11 & 127.1000 & 38.19000 & 73.60000\\\\\n",
       "\t 12 & 111.8571 & 30.57143 & 77.57143\\\\\n",
       "\t 13 & 114.3333 & 33.95000 & 62.33333\\\\\n",
       "\t 14 & 137.5000 & 35.10000 & 70.00000\\\\\n",
       "\t 17 & 163.0000 & 40.90000 & 72.00000\\\\\n",
       "\\end{tabular}\n"
      ],
      "text/markdown": [
       "\n",
       "A tibble: 16 × 4\n",
       "\n",
       "| pregnancies &lt;fct&gt; | average_glucose &lt;dbl&gt; | average_bmi &lt;dbl&gt; | average_blood_pressure &lt;dbl&gt; |\n",
       "|---|---|---|---|\n",
       "| 0  | 122.3976 | 34.33133 | 69.09639 |\n",
       "| 1  | 113.0286 | 31.11238 | 67.88571 |\n",
       "| 2  | 110.7973 | 30.75405 | 64.74324 |\n",
       "| 3  | 123.7925 | 30.42830 | 68.22642 |\n",
       "| 4  | 123.3333 | 31.95556 | 69.03704 |\n",
       "| 5  | 117.0488 | 32.67561 | 75.78049 |\n",
       "| 6  | 119.8636 | 30.10000 | 68.15909 |\n",
       "| 7  | 139.7097 | 33.87097 | 77.58065 |\n",
       "| 8  | 128.7308 | 30.33462 | 73.65385 |\n",
       "| 9  | 126.0909 | 30.95909 | 75.59091 |\n",
       "| 10 | 120.8824 | 30.75882 | 68.70588 |\n",
       "| 11 | 127.1000 | 38.19000 | 73.60000 |\n",
       "| 12 | 111.8571 | 30.57143 | 77.57143 |\n",
       "| 13 | 114.3333 | 33.95000 | 62.33333 |\n",
       "| 14 | 137.5000 | 35.10000 | 70.00000 |\n",
       "| 17 | 163.0000 | 40.90000 | 72.00000 |\n",
       "\n"
      ],
      "text/plain": [
       "   pregnancies average_glucose average_bmi average_blood_pressure\n",
       "1  0           122.3976        34.33133    69.09639              \n",
       "2  1           113.0286        31.11238    67.88571              \n",
       "3  2           110.7973        30.75405    64.74324              \n",
       "4  3           123.7925        30.42830    68.22642              \n",
       "5  4           123.3333        31.95556    69.03704              \n",
       "6  5           117.0488        32.67561    75.78049              \n",
       "7  6           119.8636        30.10000    68.15909              \n",
       "8  7           139.7097        33.87097    77.58065              \n",
       "9  8           128.7308        30.33462    73.65385              \n",
       "10 9           126.0909        30.95909    75.59091              \n",
       "11 10          120.8824        30.75882    68.70588              \n",
       "12 11          127.1000        38.19000    73.60000              \n",
       "13 12          111.8571        30.57143    77.57143              \n",
       "14 13          114.3333        33.95000    62.33333              \n",
       "15 14          137.5000        35.10000    70.00000              \n",
       "16 17          163.0000        40.90000    72.00000              "
      ]
     },
     "metadata": {},
     "output_type": "display_data"
    }
   ],
   "source": [
    "#Average glucose, blood pressure, bmi levels for number of pregnancies considered as a factor\n",
    "diabetes_training_pregnant_stage <- diabetes_training |>\n",
    "mutate(pregnancies = as_factor(pregnancies)) |>\n",
    "group_by(pregnancies) |>\n",
    "summarize(\n",
    "    average_glucose = mean(glucose),\n",
    "    average_bmi = mean(bmi),\n",
    "    average_blood_pressure = mean(blood_pressure))\n",
    "diabetes_training_pregnant_stage"
   ]
  },
  {
   "cell_type": "markdown",
   "id": "d904f4f5-144c-4030-93b9-02f5aa8bb047",
   "metadata": {},
   "source": [
    "### Expected Outcomes and Significance"
   ]
  },
  {
   "cell_type": "markdown",
   "id": "09e6c4dc-2235-4cba-b156-f2fef520a14f",
   "metadata": {},
   "source": [
    "What we would like to find:\n",
    "- How does blood pressure impact the likelihood of diabetes?\n",
    "- What is the relationship of BMI and diabetic standing?\n",
    "- What is the relationship between Glucose and Age with an emphasis on their Diabetic Standing?\n",
    "  "
   ]
  },
  {
   "cell_type": "markdown",
   "id": "e5609a66-1d39-438e-b8cd-9c93d5de665d",
   "metadata": {},
   "source": [
    "Such findings will be able to create a much bigger impact in the future, such as ..."
   ]
  },
  {
   "cell_type": "markdown",
   "id": "cff59e14-bc77-4ffc-9923-337d2f691645",
   "metadata": {},
   "source": [
    "1. Finding which variables in the data set have the most significant impact on predicting diabetes in this dataset. (The problem with this is that we are going to be standardizing our data, so I am not sure if we will be able to determine the most impactful variable)\n",
    "2. Determine what aspects/variables related to diabetes medical workers need to focus on to prevent/decrease the risk of future patients being diagnosed with either Type 1 or 2 diabetes\n",
    "3. Determining the critical age range where individuals are more susceptible to developing diabetes based on glucose levels"
   ]
  },
  {
   "cell_type": "markdown",
   "id": "82f4d916-dc40-482a-a619-92e3dd98bcf7",
   "metadata": {},
   "source": [
    "Other potential findings:\n",
    "1. To predict if an individual is susceptible to either Type 1 diabetes or Type 2 diabetes based on current data.\n",
    "2. Determine if the increase in pregnancies leads to a higher risk of either Type 1 or 2 diabetes.\n",
    "3. If individuals with high blood pressure are of higher risk of being diagnosed with either Type 1 or 2 diabetes\n",
    "4. Visualize if BMI levels influences the diagnosis of Type 1 or 2 diabetes"
   ]
  },
  {
   "cell_type": "code",
   "execution_count": null,
   "id": "83934f81-136b-44a1-a0d4-9c7220289390",
   "metadata": {},
   "outputs": [],
   "source": []
  }
 ],
 "metadata": {
  "kernelspec": {
   "display_name": "R",
   "language": "R",
   "name": "ir"
  },
  "language_info": {
   "codemirror_mode": "r",
   "file_extension": ".r",
   "mimetype": "text/x-r-source",
   "name": "R",
   "pygments_lexer": "r",
   "version": "4.3.1"
  }
 },
 "nbformat": 4,
 "nbformat_minor": 5
}
