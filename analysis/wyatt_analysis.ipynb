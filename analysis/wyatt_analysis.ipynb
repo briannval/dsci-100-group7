{
 "cells": [
  {
   "cell_type": "code",
   "execution_count": null,
   "id": "75a70778-05d0-45f7-bef4-3755c1763c19",
   "metadata": {},
   "outputs": [],
   "source": []
  }
 ],
 "metadata": {
  "kernelspec": {
   "display_name": "R",
   "language": "R",
   "name": "ir"
  },
  "language_info": {
   "codemirror_mode": "r",
   "file_extension": ".r",
   "mimetype": "text/x-r-source",
   "name": "R",
   "pygments_lexer": "r",
   "version": "4.3.1"
  }
 },
 "nbformat": 4,
 "nbformat_minor": 5
}
