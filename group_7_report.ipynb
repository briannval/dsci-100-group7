{
 "cells": [
  {
   "cell_type": "markdown",
   "id": "80978772-29b4-4edd-a1ad-a3d2aa2879f8",
   "metadata": {},
   "source": [
    "# Diabetes or not: A Comprehensive Report of Diabetical Symptoms in Pima Indians Diabetes Database #"
   ]
  },
  {
   "cell_type": "markdown",
   "id": "3fa6aed8-faca-4eff-a25b-d5248887fb4a",
   "metadata": {},
   "source": [
    "### by Brian Adhitya, Wyatt Howell, Brian Ko, Nishanth Selvakumar"
   ]
  },
  {
   "cell_type": "markdown",
   "id": "ea263a11-27fd-46fb-8e9e-10034cedda14",
   "metadata": {},
   "source": [
    "### Introduction"
   ]
  },
  {
   "cell_type": "code",
   "execution_count": null,
   "id": "d088d9cd-6a82-4b9a-b344-983e038a9b17",
   "metadata": {},
   "outputs": [],
   "source": []
  },
  {
   "cell_type": "markdown",
   "id": "f07a4d5b-a3cb-4fdb-bc77-e65c6d3d24af",
   "metadata": {},
   "source": [
    "### Loading libraries"
   ]
  },
  {
   "cell_type": "code",
   "execution_count": 3,
   "id": "74445ff6-96ff-49f6-8e87-cf81459d59c3",
   "metadata": {},
   "outputs": [],
   "source": [
    "# ensuring analysis is reproducible\n",
    "set.seed(9999)\n",
    "\n",
    "# importing libraries\n",
    "library(tidyverse)\n",
    "library(repr)\n",
    "library(janitor)\n",
    "library(ggplot2)\n",
    "library(tidymodels)\n",
    "library(RColorBrewer)\n",
    "library(cowplot)\n",
    "library(forcats)"
   ]
  },
  {
   "cell_type": "markdown",
   "id": "08270290-883c-446c-9d58-2a6453b01caa",
   "metadata": {},
   "source": [
    "### Methods & Results"
   ]
  },
  {
   "cell_type": "markdown",
   "id": "0d3a8da0-365d-4924-a65e-aeaea0202be3",
   "metadata": {},
   "source": [
    "**1. Preeliminary processing**"
   ]
  },
  {
   "cell_type": "code",
   "execution_count": 7,
   "id": "5fc59206-0ce6-4c80-af68-5e9004dc9e2b",
   "metadata": {},
   "outputs": [
    {
     "name": "stderr",
     "output_type": "stream",
     "text": [
      "\u001b[1mRows: \u001b[22m\u001b[34m768\u001b[39m \u001b[1mColumns: \u001b[22m\u001b[34m9\u001b[39m\n",
      "\u001b[36m──\u001b[39m \u001b[1mColumn specification\u001b[22m \u001b[36m────────────────────────────────────────────────────────\u001b[39m\n",
      "\u001b[1mDelimiter:\u001b[22m \",\"\n",
      "\u001b[32mdbl\u001b[39m (9): Pregnancies, Glucose, BloodPressure, SkinThickness, Insulin, BMI, D...\n",
      "\n",
      "\u001b[36mℹ\u001b[39m Use `spec()` to retrieve the full column specification for this data.\n",
      "\u001b[36mℹ\u001b[39m Specify the column types or set `show_col_types = FALSE` to quiet this message.\n"
     ]
    },
    {
     "data": {
      "text/html": [
       "<table class=\"dataframe\">\n",
       "<caption>A tibble: 6 × 9</caption>\n",
       "<thead>\n",
       "\t<tr><th scope=col>pregnancies</th><th scope=col>glucose</th><th scope=col>blood_pressure</th><th scope=col>skin_thickness</th><th scope=col>insulin</th><th scope=col>bmi</th><th scope=col>diabetes_pedigree_function</th><th scope=col>age</th><th scope=col>diabetes</th></tr>\n",
       "\t<tr><th scope=col>&lt;dbl&gt;</th><th scope=col>&lt;dbl&gt;</th><th scope=col>&lt;dbl&gt;</th><th scope=col>&lt;dbl&gt;</th><th scope=col>&lt;dbl&gt;</th><th scope=col>&lt;dbl&gt;</th><th scope=col>&lt;dbl&gt;</th><th scope=col>&lt;dbl&gt;</th><th scope=col>&lt;fct&gt;</th></tr>\n",
       "</thead>\n",
       "<tbody>\n",
       "\t<tr><td> 1</td><td> 85</td><td>66</td><td>29</td><td>  0</td><td>26.6</td><td>0.351</td><td>31</td><td>No</td></tr>\n",
       "\t<tr><td> 1</td><td> 89</td><td>66</td><td>23</td><td> 94</td><td>28.1</td><td>0.167</td><td>21</td><td>No</td></tr>\n",
       "\t<tr><td>10</td><td>115</td><td> 0</td><td> 0</td><td>  0</td><td>35.3</td><td>0.134</td><td>29</td><td>No</td></tr>\n",
       "\t<tr><td> 3</td><td>126</td><td>88</td><td>41</td><td>235</td><td>39.3</td><td>0.704</td><td>27</td><td>No</td></tr>\n",
       "\t<tr><td> 8</td><td> 99</td><td>84</td><td> 0</td><td>  0</td><td>35.4</td><td>0.388</td><td>50</td><td>No</td></tr>\n",
       "\t<tr><td> 1</td><td> 97</td><td>66</td><td>15</td><td>140</td><td>23.2</td><td>0.487</td><td>22</td><td>No</td></tr>\n",
       "</tbody>\n",
       "</table>\n"
      ],
      "text/latex": [
       "A tibble: 6 × 9\n",
       "\\begin{tabular}{lllllllll}\n",
       " pregnancies & glucose & blood\\_pressure & skin\\_thickness & insulin & bmi & diabetes\\_pedigree\\_function & age & diabetes\\\\\n",
       " <dbl> & <dbl> & <dbl> & <dbl> & <dbl> & <dbl> & <dbl> & <dbl> & <fct>\\\\\n",
       "\\hline\n",
       "\t  1 &  85 & 66 & 29 &   0 & 26.6 & 0.351 & 31 & No\\\\\n",
       "\t  1 &  89 & 66 & 23 &  94 & 28.1 & 0.167 & 21 & No\\\\\n",
       "\t 10 & 115 &  0 &  0 &   0 & 35.3 & 0.134 & 29 & No\\\\\n",
       "\t  3 & 126 & 88 & 41 & 235 & 39.3 & 0.704 & 27 & No\\\\\n",
       "\t  8 &  99 & 84 &  0 &   0 & 35.4 & 0.388 & 50 & No\\\\\n",
       "\t  1 &  97 & 66 & 15 & 140 & 23.2 & 0.487 & 22 & No\\\\\n",
       "\\end{tabular}\n"
      ],
      "text/markdown": [
       "\n",
       "A tibble: 6 × 9\n",
       "\n",
       "| pregnancies &lt;dbl&gt; | glucose &lt;dbl&gt; | blood_pressure &lt;dbl&gt; | skin_thickness &lt;dbl&gt; | insulin &lt;dbl&gt; | bmi &lt;dbl&gt; | diabetes_pedigree_function &lt;dbl&gt; | age &lt;dbl&gt; | diabetes &lt;fct&gt; |\n",
       "|---|---|---|---|---|---|---|---|---|\n",
       "|  1 |  85 | 66 | 29 |   0 | 26.6 | 0.351 | 31 | No |\n",
       "|  1 |  89 | 66 | 23 |  94 | 28.1 | 0.167 | 21 | No |\n",
       "| 10 | 115 |  0 |  0 |   0 | 35.3 | 0.134 | 29 | No |\n",
       "|  3 | 126 | 88 | 41 | 235 | 39.3 | 0.704 | 27 | No |\n",
       "|  8 |  99 | 84 |  0 |   0 | 35.4 | 0.388 | 50 | No |\n",
       "|  1 |  97 | 66 | 15 | 140 | 23.2 | 0.487 | 22 | No |\n",
       "\n"
      ],
      "text/plain": [
       "  pregnancies glucose blood_pressure skin_thickness insulin bmi \n",
       "1  1           85     66             29               0     26.6\n",
       "2  1           89     66             23              94     28.1\n",
       "3 10          115      0              0               0     35.3\n",
       "4  3          126     88             41             235     39.3\n",
       "5  8           99     84              0               0     35.4\n",
       "6  1           97     66             15             140     23.2\n",
       "  diabetes_pedigree_function age diabetes\n",
       "1 0.351                      31  No      \n",
       "2 0.167                      21  No      \n",
       "3 0.134                      29  No      \n",
       "4 0.704                      27  No      \n",
       "5 0.388                      50  No      \n",
       "6 0.487                      22  No      "
      ]
     },
     "metadata": {},
     "output_type": "display_data"
    }
   ],
   "source": [
    "# Cleaning names and specifying categorical variable\n",
    "diabetes <- read_csv(\"data/diabetes.csv\") |>\n",
    "            clean_names() |>\n",
    "            mutate(outcome = as_factor(outcome)) |>\n",
    "            mutate(diabetes = fct_recode(outcome, \"Yes\" = \"1\", \"No\" = \"0\")) |>\n",
    "            select(-outcome)\n",
    "\n",
    "# splitting the diatabes data\n",
    "diabetes_split <- initial_split(diabetes, prop = 0.75, strata = diabetes)\n",
    "\n",
    "# training data\n",
    "diabetes_training <- training(diabetes_split)\n",
    "\n",
    "# testing data\n",
    "diabetes_testing <- testing(diabetes_split)\n",
    "\n",
    "head(diabetes_training)"
   ]
  },
  {
   "cell_type": "markdown",
   "id": "9929a7b5-b6df-4752-8844-4d976bcb319b",
   "metadata": {},
   "source": [
    "### Discussion"
   ]
  },
  {
   "cell_type": "code",
   "execution_count": null,
   "id": "ec1dfc75-3b03-4bfd-9dbe-983b1a63c153",
   "metadata": {},
   "outputs": [],
   "source": []
  },
  {
   "cell_type": "markdown",
   "id": "5fdad02c-d95f-4346-94d9-17bddd3c0381",
   "metadata": {},
   "source": [
    "### References"
   ]
  },
  {
   "cell_type": "code",
   "execution_count": null,
   "id": "52557efc-137b-4e7a-8e3a-037f51179afe",
   "metadata": {},
   "outputs": [],
   "source": []
  }
 ],
 "metadata": {
  "kernelspec": {
   "display_name": "R",
   "language": "R",
   "name": "ir"
  },
  "language_info": {
   "codemirror_mode": "r",
   "file_extension": ".r",
   "mimetype": "text/x-r-source",
   "name": "R",
   "pygments_lexer": "r",
   "version": "4.3.1"
  }
 },
 "nbformat": 4,
 "nbformat_minor": 5
}
